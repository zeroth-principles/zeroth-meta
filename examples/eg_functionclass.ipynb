{
 "cells": [
  {
   "cell_type": "markdown",
   "source": [
    "# What the Func?"
   ],
   "metadata": {
    "collapsed": false
   }
  },
  {
   "cell_type": "markdown",
   "source": [
    "What is the need to have Func classes and why not just use functions? What are the additional features that Func classes provide? What are the best\n",
    " practices to use Func classes? Here we provide answers to these questions."
   ],
   "metadata": {
    "collapsed": false
   }
  },
  {
   "cell_type": "markdown",
   "source": [
    "## Envirnoment Setup\n",
    "\n",
    "Here we first create a dataframe of simulated returns which will be used to demonstrate the features of Func classes."
   ],
   "metadata": {
    "collapsed": false
   }
  },
  {
   "cell_type": "code",
   "execution_count": 46,
   "metadata": {
    "ExecuteTime": {
     "end_time": "2023-10-11T01:56:05.143637600Z",
     "start_time": "2023-10-11T01:56:05.039638400Z"
    }
   },
   "outputs": [],
   "source": [
    "from zpmeta.sources.panelsource import PanelSource\n",
    "from zpmeta.funcs.func import Func\n",
    "from zpmeta.singletons.singletons import MultitonMeta\n",
    "from pandas import DataFrame, Series, concat, MultiIndex, date_range, IndexSlice\n",
    "import numpy as np\n",
    "from datetime import datetime\n",
    "import logging\n",
    "\n",
    "logging.basicConfig(level=logging.INFO)"
   ]
  },
  {
   "cell_type": "code",
   "execution_count": 47,
   "metadata": {
    "ExecuteTime": {
     "end_time": "2023-10-11T01:56:05.199430600Z",
     "start_time": "2023-10-11T01:56:05.050638400Z"
    }
   },
   "outputs": [],
   "source": [
    "class RandomReturns(PanelSource, metaclass=MultitonMeta):\n",
    "    '''Subclasses Su to create a dataframe of random numbers.\n",
    "    Accepts a dictionary of parameters, including:\n",
    "    cols: list of column names\n",
    "    '''\n",
    "    def __init__(self, params: dict = None):\n",
    "        super(RandomReturns, self).__init__(params)\n",
    "        self.appendable = dict(xs=True, ts=True)\n",
    "    \n",
    "    def _execute(self, entities=None, period=None):\n",
    "        cols = MultiIndex.from_product([val for val in entities.values()], names=entities.keys())\n",
    "        idx = date_range(period[0], period[1], freq=self.params['freq'])\n",
    "        result = DataFrame(np.random.randn(len(idx), len(cols)), columns=cols, index=idx)\n",
    "        \n",
    "        return result\n",
    "    "
   ]
  },
  {
   "cell_type": "code",
   "execution_count": 48,
   "outputs": [
    {
     "name": "stderr",
     "output_type": "stream",
     "text": [
      "INFO:root:args: ({'freq': 'B'},) ; kwds: {}\n",
      "INFO:root:Multiton checking registry for key: (<class '__main__.RandomReturns'>, '{\"freq\": \"B\"}')\n",
      "INFO:root:Multiton No Instance of <class '__main__.RandomReturns'> {\"freq\": \"B\"}\n",
      "INFO:root:Multiton Registering Instance of <class '__main__.RandomReturns'> {\"freq\": \"B\"}\n"
     ]
    }
   ],
   "source": [
    "returns_source = RandomReturns(dict(freq='B'))"
   ],
   "metadata": {
    "collapsed": false,
    "ExecuteTime": {
     "end_time": "2023-10-11T01:56:05.202394Z",
     "start_time": "2023-10-11T01:56:05.062637900Z"
    }
   }
  },
  {
   "cell_type": "markdown",
   "source": [
    "Let us print the dataframe"
   ],
   "metadata": {
    "collapsed": false
   }
  },
  {
   "cell_type": "code",
   "execution_count": 49,
   "outputs": [
    {
     "name": "stderr",
     "output_type": "stream",
     "text": [
      "INFO:root:RUN RandomReturns {'freq': 'B'}\n",
      "INFO:root:RUN INITIAL: [{'Type': ['A', 'B', 'C'], 'ID': [1, 2]}] 2019-01-12 00:00:00 - 2019-01-31 00:00:00\n",
      "INFO:root:EXEC INITIAL: [{'Type': ['A', 'B', 'C'], 'ID': [1, 2]}] 2019-01-12 00:00:00 - 2019-01-31 00:00:00\n",
      "INFO:root:DONE RandomReturns {'freq': 'B'}\n"
     ]
    },
    {
     "data": {
      "text/plain": "Type               A                   B                   C          \nID                 1         2         1         2         1         2\n2019-01-14 -0.484021 -0.062015 -2.020391 -1.539054  0.490218  2.239993\n2019-01-15  1.395485  0.787363 -0.018058 -2.647144 -0.423920  0.575881\n2019-01-16  2.276922  0.003163 -1.289538 -1.889249 -1.084197  0.465743\n2019-01-17  0.270318  1.072168 -2.450252  0.400483 -1.062103  1.290286\n2019-01-18  0.284575 -0.298495 -0.583872 -0.366908 -0.396446  0.541028\n2019-01-21 -0.424272 -1.282446  0.710925 -0.622431  0.814949  1.150209\n2019-01-22 -0.054300 -0.064567 -0.770446 -2.941406 -0.186358 -0.454159\n2019-01-23  0.331302  0.286277  0.077985 -0.057411  1.814517 -0.527386\n2019-01-24 -1.876048  0.666671  0.238634 -0.416457  0.524166 -1.408788\n2019-01-25  1.199493 -0.054228 -1.338807 -0.434322  0.608676  0.268443\n2019-01-28 -0.621707  0.567572  0.020806 -0.104809 -1.884590  0.201846\n2019-01-29  0.558663  0.842688 -0.363370  0.265552 -0.476508 -0.164388\n2019-01-30 -0.175494 -1.246751  1.285340 -0.923830  0.516790 -0.218508\n2019-01-31  1.250070  0.143732 -1.183035 -0.128996 -0.022472 -0.376586",
      "text/html": "<div>\n<style scoped>\n    .dataframe tbody tr th:only-of-type {\n        vertical-align: middle;\n    }\n\n    .dataframe tbody tr th {\n        vertical-align: top;\n    }\n\n    .dataframe thead tr th {\n        text-align: left;\n    }\n</style>\n<table border=\"1\" class=\"dataframe\">\n  <thead>\n    <tr>\n      <th>Type</th>\n      <th colspan=\"2\" halign=\"left\">A</th>\n      <th colspan=\"2\" halign=\"left\">B</th>\n      <th colspan=\"2\" halign=\"left\">C</th>\n    </tr>\n    <tr>\n      <th>ID</th>\n      <th>1</th>\n      <th>2</th>\n      <th>1</th>\n      <th>2</th>\n      <th>1</th>\n      <th>2</th>\n    </tr>\n  </thead>\n  <tbody>\n    <tr>\n      <th>2019-01-14</th>\n      <td>-0.484021</td>\n      <td>-0.062015</td>\n      <td>-2.020391</td>\n      <td>-1.539054</td>\n      <td>0.490218</td>\n      <td>2.239993</td>\n    </tr>\n    <tr>\n      <th>2019-01-15</th>\n      <td>1.395485</td>\n      <td>0.787363</td>\n      <td>-0.018058</td>\n      <td>-2.647144</td>\n      <td>-0.423920</td>\n      <td>0.575881</td>\n    </tr>\n    <tr>\n      <th>2019-01-16</th>\n      <td>2.276922</td>\n      <td>0.003163</td>\n      <td>-1.289538</td>\n      <td>-1.889249</td>\n      <td>-1.084197</td>\n      <td>0.465743</td>\n    </tr>\n    <tr>\n      <th>2019-01-17</th>\n      <td>0.270318</td>\n      <td>1.072168</td>\n      <td>-2.450252</td>\n      <td>0.400483</td>\n      <td>-1.062103</td>\n      <td>1.290286</td>\n    </tr>\n    <tr>\n      <th>2019-01-18</th>\n      <td>0.284575</td>\n      <td>-0.298495</td>\n      <td>-0.583872</td>\n      <td>-0.366908</td>\n      <td>-0.396446</td>\n      <td>0.541028</td>\n    </tr>\n    <tr>\n      <th>2019-01-21</th>\n      <td>-0.424272</td>\n      <td>-1.282446</td>\n      <td>0.710925</td>\n      <td>-0.622431</td>\n      <td>0.814949</td>\n      <td>1.150209</td>\n    </tr>\n    <tr>\n      <th>2019-01-22</th>\n      <td>-0.054300</td>\n      <td>-0.064567</td>\n      <td>-0.770446</td>\n      <td>-2.941406</td>\n      <td>-0.186358</td>\n      <td>-0.454159</td>\n    </tr>\n    <tr>\n      <th>2019-01-23</th>\n      <td>0.331302</td>\n      <td>0.286277</td>\n      <td>0.077985</td>\n      <td>-0.057411</td>\n      <td>1.814517</td>\n      <td>-0.527386</td>\n    </tr>\n    <tr>\n      <th>2019-01-24</th>\n      <td>-1.876048</td>\n      <td>0.666671</td>\n      <td>0.238634</td>\n      <td>-0.416457</td>\n      <td>0.524166</td>\n      <td>-1.408788</td>\n    </tr>\n    <tr>\n      <th>2019-01-25</th>\n      <td>1.199493</td>\n      <td>-0.054228</td>\n      <td>-1.338807</td>\n      <td>-0.434322</td>\n      <td>0.608676</td>\n      <td>0.268443</td>\n    </tr>\n    <tr>\n      <th>2019-01-28</th>\n      <td>-0.621707</td>\n      <td>0.567572</td>\n      <td>0.020806</td>\n      <td>-0.104809</td>\n      <td>-1.884590</td>\n      <td>0.201846</td>\n    </tr>\n    <tr>\n      <th>2019-01-29</th>\n      <td>0.558663</td>\n      <td>0.842688</td>\n      <td>-0.363370</td>\n      <td>0.265552</td>\n      <td>-0.476508</td>\n      <td>-0.164388</td>\n    </tr>\n    <tr>\n      <th>2019-01-30</th>\n      <td>-0.175494</td>\n      <td>-1.246751</td>\n      <td>1.285340</td>\n      <td>-0.923830</td>\n      <td>0.516790</td>\n      <td>-0.218508</td>\n    </tr>\n    <tr>\n      <th>2019-01-31</th>\n      <td>1.250070</td>\n      <td>0.143732</td>\n      <td>-1.183035</td>\n      <td>-0.128996</td>\n      <td>-0.022472</td>\n      <td>-0.376586</td>\n    </tr>\n  </tbody>\n</table>\n</div>"
     },
     "execution_count": 49,
     "metadata": {},
     "output_type": "execute_result"
    }
   ],
   "source": [
    "returns_df = returns_source(entities=dict(Type=['A','B','C'], ID=[1,2]), period=(datetime(2019,1,12), datetime(2019,1,31)))\n",
    "returns_df\n"
   ],
   "metadata": {
    "collapsed": false,
    "ExecuteTime": {
     "end_time": "2023-10-11T01:56:05.214444500Z",
     "start_time": "2023-10-11T01:56:05.080637600Z"
    }
   }
  },
  {
   "cell_type": "markdown",
   "source": [
    "## Usage Example\n",
    "\n",
    "Let us create a Func class that calculates rolling volatility of returns. It can be used to calculate both linear and exponential rolling volatility."
   ],
   "metadata": {
    "collapsed": false
   }
  },
  {
   "cell_type": "code",
   "execution_count": 50,
   "metadata": {
    "ExecuteTime": {
     "end_time": "2023-10-11T01:56:05.218396500Z",
     "start_time": "2023-10-11T01:56:05.097638Z"
    }
   },
   "outputs": [],
   "source": [
    "class RollingVolatility_g_Returns(Func):\n",
    "    '''Calculates rolling volatility of returns. It can be used to calculate both linear and exponential rolling volatility.'''\n",
    "    @classmethod\n",
    "    def _std_params(cls, name: str = None) -> dict:\n",
    "        return dict(type='lin',lookback = 252)\n",
    "\n",
    "    @classmethod\n",
    "    def _execute(cls, operand: DataFrame, params=None) -> DataFrame:\n",
    "        if params['type'] == 'exp':\n",
    "            # calculate the rolling exponential volatility\n",
    "            result = operand.ewm(span=params['lookback']).std()\n",
    "        elif params['type'] == 'lin':\n",
    "            # calculate rolling standard  on the operand dataframe\n",
    "            result = operand.rolling(params['lookback']).std()\n",
    "        else:\n",
    "            raise ValueError(f'given type not implemented. type must be either exp or lin')\n",
    "        \n",
    "        return result"
   ]
  },
  {
   "cell_type": "markdown",
   "source": [
    "Now let us use this Func class to calculate rolling volatility of the returns dataframe we created earlier."
   ],
   "metadata": {
    "collapsed": false
   }
  },
  {
   "cell_type": "code",
   "execution_count": 51,
   "metadata": {
    "ExecuteTime": {
     "end_time": "2023-10-11T01:56:05.221396300Z",
     "start_time": "2023-10-11T01:56:05.111639Z"
    }
   },
   "outputs": [
    {
     "name": "stderr",
     "output_type": "stream",
     "text": [
      "INFO:root:INIT RollingVolatility_g_Returns {'type': 'lin', 'lookback': 5}\n"
     ]
    }
   ],
   "source": [
    "vol_func = RollingVolatility_g_Returns(dict(type='lin', lookback=5))"
   ]
  },
  {
   "cell_type": "markdown",
   "source": [
    "This 'vol_func' instance is callable, and it behaves like a usual function. Let us call it on the returns dataframe."
   ],
   "metadata": {
    "collapsed": false
   }
  },
  {
   "cell_type": "code",
   "execution_count": 52,
   "outputs": [
    {
     "data": {
      "text/plain": "Type               A                   B                   C          \nID                 1         2         1         2         1         2\n2019-01-14       NaN       NaN       NaN       NaN       NaN       NaN\n2019-01-15       NaN       NaN       NaN       NaN       NaN       NaN\n2019-01-16       NaN       NaN       NaN       NaN       NaN       NaN\n2019-01-17       NaN       NaN       NaN       NaN       NaN       NaN\n2019-01-18  1.086009  0.593954  0.999320  1.218553  0.643075  0.757506\n2019-01-21  1.069254  0.933727  1.212101  1.225298  0.771134  0.384689\n2019-01-22  1.050456  0.840011  1.147180  1.325645  0.778908  0.691370\n2019-01-23  0.321535  0.859208  1.186474  1.300319  1.127243  0.860951\n2019-01-24  0.906726  0.736277  0.608601  1.169457  0.880544  0.998377\n2019-01-25  1.130853  0.731093  0.824684  1.162417  0.720954  0.958552\n2019-01-28  1.145532  0.340105  0.674829  1.214574  1.357433  0.679075\n2019-01-29  1.197224  0.351898  0.635490  0.289455  1.382724  0.683939\n2019-01-30  1.174764  0.853467  0.952492  0.440490  1.071192  0.675100\n2019-01-31  0.829632  0.805830  1.058047  0.443951  1.012452  0.279581",
      "text/html": "<div>\n<style scoped>\n    .dataframe tbody tr th:only-of-type {\n        vertical-align: middle;\n    }\n\n    .dataframe tbody tr th {\n        vertical-align: top;\n    }\n\n    .dataframe thead tr th {\n        text-align: left;\n    }\n</style>\n<table border=\"1\" class=\"dataframe\">\n  <thead>\n    <tr>\n      <th>Type</th>\n      <th colspan=\"2\" halign=\"left\">A</th>\n      <th colspan=\"2\" halign=\"left\">B</th>\n      <th colspan=\"2\" halign=\"left\">C</th>\n    </tr>\n    <tr>\n      <th>ID</th>\n      <th>1</th>\n      <th>2</th>\n      <th>1</th>\n      <th>2</th>\n      <th>1</th>\n      <th>2</th>\n    </tr>\n  </thead>\n  <tbody>\n    <tr>\n      <th>2019-01-14</th>\n      <td>NaN</td>\n      <td>NaN</td>\n      <td>NaN</td>\n      <td>NaN</td>\n      <td>NaN</td>\n      <td>NaN</td>\n    </tr>\n    <tr>\n      <th>2019-01-15</th>\n      <td>NaN</td>\n      <td>NaN</td>\n      <td>NaN</td>\n      <td>NaN</td>\n      <td>NaN</td>\n      <td>NaN</td>\n    </tr>\n    <tr>\n      <th>2019-01-16</th>\n      <td>NaN</td>\n      <td>NaN</td>\n      <td>NaN</td>\n      <td>NaN</td>\n      <td>NaN</td>\n      <td>NaN</td>\n    </tr>\n    <tr>\n      <th>2019-01-17</th>\n      <td>NaN</td>\n      <td>NaN</td>\n      <td>NaN</td>\n      <td>NaN</td>\n      <td>NaN</td>\n      <td>NaN</td>\n    </tr>\n    <tr>\n      <th>2019-01-18</th>\n      <td>1.086009</td>\n      <td>0.593954</td>\n      <td>0.999320</td>\n      <td>1.218553</td>\n      <td>0.643075</td>\n      <td>0.757506</td>\n    </tr>\n    <tr>\n      <th>2019-01-21</th>\n      <td>1.069254</td>\n      <td>0.933727</td>\n      <td>1.212101</td>\n      <td>1.225298</td>\n      <td>0.771134</td>\n      <td>0.384689</td>\n    </tr>\n    <tr>\n      <th>2019-01-22</th>\n      <td>1.050456</td>\n      <td>0.840011</td>\n      <td>1.147180</td>\n      <td>1.325645</td>\n      <td>0.778908</td>\n      <td>0.691370</td>\n    </tr>\n    <tr>\n      <th>2019-01-23</th>\n      <td>0.321535</td>\n      <td>0.859208</td>\n      <td>1.186474</td>\n      <td>1.300319</td>\n      <td>1.127243</td>\n      <td>0.860951</td>\n    </tr>\n    <tr>\n      <th>2019-01-24</th>\n      <td>0.906726</td>\n      <td>0.736277</td>\n      <td>0.608601</td>\n      <td>1.169457</td>\n      <td>0.880544</td>\n      <td>0.998377</td>\n    </tr>\n    <tr>\n      <th>2019-01-25</th>\n      <td>1.130853</td>\n      <td>0.731093</td>\n      <td>0.824684</td>\n      <td>1.162417</td>\n      <td>0.720954</td>\n      <td>0.958552</td>\n    </tr>\n    <tr>\n      <th>2019-01-28</th>\n      <td>1.145532</td>\n      <td>0.340105</td>\n      <td>0.674829</td>\n      <td>1.214574</td>\n      <td>1.357433</td>\n      <td>0.679075</td>\n    </tr>\n    <tr>\n      <th>2019-01-29</th>\n      <td>1.197224</td>\n      <td>0.351898</td>\n      <td>0.635490</td>\n      <td>0.289455</td>\n      <td>1.382724</td>\n      <td>0.683939</td>\n    </tr>\n    <tr>\n      <th>2019-01-30</th>\n      <td>1.174764</td>\n      <td>0.853467</td>\n      <td>0.952492</td>\n      <td>0.440490</td>\n      <td>1.071192</td>\n      <td>0.675100</td>\n    </tr>\n    <tr>\n      <th>2019-01-31</th>\n      <td>0.829632</td>\n      <td>0.805830</td>\n      <td>1.058047</td>\n      <td>0.443951</td>\n      <td>1.012452</td>\n      <td>0.279581</td>\n    </tr>\n  </tbody>\n</table>\n</div>"
     },
     "execution_count": 52,
     "metadata": {},
     "output_type": "execute_result"
    }
   ],
   "source": [
    "vol = vol_func(returns_df)\n",
    "vol"
   ],
   "metadata": {
    "collapsed": false,
    "ExecuteTime": {
     "end_time": "2023-10-11T01:56:05.222396200Z",
     "start_time": "2023-10-11T01:56:05.126638Z"
    }
   }
  },
  {
   "cell_type": "markdown",
   "source": [
    "We don't need to create an explicit instance variable to call the Func class. We can call it directly as follows:"
   ],
   "metadata": {
    "collapsed": false
   }
  },
  {
   "cell_type": "code",
   "execution_count": 53,
   "outputs": [
    {
     "name": "stderr",
     "output_type": "stream",
     "text": [
      "INFO:root:INIT RollingVolatility_g_Returns {'type': 'lin', 'lookback': 5}\n"
     ]
    },
    {
     "data": {
      "text/plain": "Type               A                   B                   C          \nID                 1         2         1         2         1         2\n2019-01-14       NaN       NaN       NaN       NaN       NaN       NaN\n2019-01-15       NaN       NaN       NaN       NaN       NaN       NaN\n2019-01-16       NaN       NaN       NaN       NaN       NaN       NaN\n2019-01-17       NaN       NaN       NaN       NaN       NaN       NaN\n2019-01-18  1.086009  0.593954  0.999320  1.218553  0.643075  0.757506\n2019-01-21  1.069254  0.933727  1.212101  1.225298  0.771134  0.384689\n2019-01-22  1.050456  0.840011  1.147180  1.325645  0.778908  0.691370\n2019-01-23  0.321535  0.859208  1.186474  1.300319  1.127243  0.860951\n2019-01-24  0.906726  0.736277  0.608601  1.169457  0.880544  0.998377\n2019-01-25  1.130853  0.731093  0.824684  1.162417  0.720954  0.958552\n2019-01-28  1.145532  0.340105  0.674829  1.214574  1.357433  0.679075\n2019-01-29  1.197224  0.351898  0.635490  0.289455  1.382724  0.683939\n2019-01-30  1.174764  0.853467  0.952492  0.440490  1.071192  0.675100\n2019-01-31  0.829632  0.805830  1.058047  0.443951  1.012452  0.279581",
      "text/html": "<div>\n<style scoped>\n    .dataframe tbody tr th:only-of-type {\n        vertical-align: middle;\n    }\n\n    .dataframe tbody tr th {\n        vertical-align: top;\n    }\n\n    .dataframe thead tr th {\n        text-align: left;\n    }\n</style>\n<table border=\"1\" class=\"dataframe\">\n  <thead>\n    <tr>\n      <th>Type</th>\n      <th colspan=\"2\" halign=\"left\">A</th>\n      <th colspan=\"2\" halign=\"left\">B</th>\n      <th colspan=\"2\" halign=\"left\">C</th>\n    </tr>\n    <tr>\n      <th>ID</th>\n      <th>1</th>\n      <th>2</th>\n      <th>1</th>\n      <th>2</th>\n      <th>1</th>\n      <th>2</th>\n    </tr>\n  </thead>\n  <tbody>\n    <tr>\n      <th>2019-01-14</th>\n      <td>NaN</td>\n      <td>NaN</td>\n      <td>NaN</td>\n      <td>NaN</td>\n      <td>NaN</td>\n      <td>NaN</td>\n    </tr>\n    <tr>\n      <th>2019-01-15</th>\n      <td>NaN</td>\n      <td>NaN</td>\n      <td>NaN</td>\n      <td>NaN</td>\n      <td>NaN</td>\n      <td>NaN</td>\n    </tr>\n    <tr>\n      <th>2019-01-16</th>\n      <td>NaN</td>\n      <td>NaN</td>\n      <td>NaN</td>\n      <td>NaN</td>\n      <td>NaN</td>\n      <td>NaN</td>\n    </tr>\n    <tr>\n      <th>2019-01-17</th>\n      <td>NaN</td>\n      <td>NaN</td>\n      <td>NaN</td>\n      <td>NaN</td>\n      <td>NaN</td>\n      <td>NaN</td>\n    </tr>\n    <tr>\n      <th>2019-01-18</th>\n      <td>1.086009</td>\n      <td>0.593954</td>\n      <td>0.999320</td>\n      <td>1.218553</td>\n      <td>0.643075</td>\n      <td>0.757506</td>\n    </tr>\n    <tr>\n      <th>2019-01-21</th>\n      <td>1.069254</td>\n      <td>0.933727</td>\n      <td>1.212101</td>\n      <td>1.225298</td>\n      <td>0.771134</td>\n      <td>0.384689</td>\n    </tr>\n    <tr>\n      <th>2019-01-22</th>\n      <td>1.050456</td>\n      <td>0.840011</td>\n      <td>1.147180</td>\n      <td>1.325645</td>\n      <td>0.778908</td>\n      <td>0.691370</td>\n    </tr>\n    <tr>\n      <th>2019-01-23</th>\n      <td>0.321535</td>\n      <td>0.859208</td>\n      <td>1.186474</td>\n      <td>1.300319</td>\n      <td>1.127243</td>\n      <td>0.860951</td>\n    </tr>\n    <tr>\n      <th>2019-01-24</th>\n      <td>0.906726</td>\n      <td>0.736277</td>\n      <td>0.608601</td>\n      <td>1.169457</td>\n      <td>0.880544</td>\n      <td>0.998377</td>\n    </tr>\n    <tr>\n      <th>2019-01-25</th>\n      <td>1.130853</td>\n      <td>0.731093</td>\n      <td>0.824684</td>\n      <td>1.162417</td>\n      <td>0.720954</td>\n      <td>0.958552</td>\n    </tr>\n    <tr>\n      <th>2019-01-28</th>\n      <td>1.145532</td>\n      <td>0.340105</td>\n      <td>0.674829</td>\n      <td>1.214574</td>\n      <td>1.357433</td>\n      <td>0.679075</td>\n    </tr>\n    <tr>\n      <th>2019-01-29</th>\n      <td>1.197224</td>\n      <td>0.351898</td>\n      <td>0.635490</td>\n      <td>0.289455</td>\n      <td>1.382724</td>\n      <td>0.683939</td>\n    </tr>\n    <tr>\n      <th>2019-01-30</th>\n      <td>1.174764</td>\n      <td>0.853467</td>\n      <td>0.952492</td>\n      <td>0.440490</td>\n      <td>1.071192</td>\n      <td>0.675100</td>\n    </tr>\n    <tr>\n      <th>2019-01-31</th>\n      <td>0.829632</td>\n      <td>0.805830</td>\n      <td>1.058047</td>\n      <td>0.443951</td>\n      <td>1.012452</td>\n      <td>0.279581</td>\n    </tr>\n  </tbody>\n</table>\n</div>"
     },
     "execution_count": 53,
     "metadata": {},
     "output_type": "execute_result"
    }
   ],
   "source": [
    "vol = RollingVolatility_g_Returns(dict(type='lin', lookback=5))(returns_df)\n",
    "vol"
   ],
   "metadata": {
    "collapsed": false,
    "ExecuteTime": {
     "end_time": "2023-10-11T01:56:05.222396200Z",
     "start_time": "2023-10-11T01:56:05.143637600Z"
    }
   }
  },
  {
   "cell_type": "markdown",
   "source": [
    "## Feature 1: Default Params\n",
    "\n",
    "Using the _std_params method, we can define default parameters for the Func class. These default parameters are used if the user does not provide \n",
    "the params while calling the Func instance. In the above example, we have defined the default params as type='lin' and lookback=252. If the user \n",
    "does not provide these params while calling the Func instance, it returns the rolling linear volatility with a lookback of 252 days.\n",
    "\n",
    "But we can also provide named default params. Let us define a Func class that calculates the rolling volatility as per the RiskMetrics methodology.\n",
    " Let us redefine our class as follows:"
   ],
   "metadata": {
    "collapsed": false
   }
  },
  {
   "cell_type": "code",
   "execution_count": 54,
   "metadata": {
    "ExecuteTime": {
     "end_time": "2023-10-11T01:56:05.223395800Z",
     "start_time": "2023-10-11T01:56:05.172838100Z"
    }
   },
   "outputs": [],
   "source": [
    "class RollingVolatility_g_Returns(Func):\n",
    "    '''Calculates rolling volatility of returns. It can be used to calculate both linear and exponential rolling volatility.'''\n",
    "    @classmethod\n",
    "    def _std_params(cls, name: str = None) -> dict:\n",
    "        if name is None:\n",
    "            return dict(type='lin',lookback = 252)\n",
    "        elif name == 'RiskMetrics':\n",
    "            return dict(type='exp',lookback = 33)\n",
    "        elif name == 'DRQ':\n",
    "            return dict(type='lin',lookback = 5)\n",
    "        else:\n",
    "            raise ValueError(f'given name not implemented. name must be either None or RiskMetrics')\n",
    "        \n",
    "        return dict(type='lin',lookback = 252)\n",
    "\n",
    "    @classmethod\n",
    "    def _execute(cls, operand: DataFrame, params=None) -> DataFrame:\n",
    "        if params['type'] == 'exp':\n",
    "            # calculate the rolling exponential volatility\n",
    "            result = operand.ewm(span=params['lookback']).std()\n",
    "        elif params['type'] == 'lin':\n",
    "            # calculate rolling standard  on the operand dataframe\n",
    "            result = operand.rolling(params['lookback']).std()\n",
    "        else:\n",
    "            raise ValueError(f'given type not implemented. type must be either exp or lin')\n",
    "        \n",
    "        return result"
   ]
  },
  {
   "cell_type": "markdown",
   "source": [
    "Now let us see the power of default parameters."
   ],
   "metadata": {
    "collapsed": false
   }
  },
  {
   "cell_type": "code",
   "execution_count": 55,
   "outputs": [
    {
     "name": "stderr",
     "output_type": "stream",
     "text": [
      "INFO:root:INIT RollingVolatility_g_Returns {'type': 'exp', 'lookback': 33}\n"
     ]
    },
    {
     "data": {
      "text/plain": "Type               A                   B                   C          \nID                 1         2         1         2         1         2\n2019-01-14       NaN       NaN       NaN       NaN       NaN       NaN\n2019-01-15  1.329012  0.600600  1.415864  0.783538  0.646394  1.176705\n2019-01-16  1.399919  0.471703  1.001496  0.560694  0.787816  0.979810\n2019-01-17  1.207151  0.570722  1.065370  1.331082  0.726449  0.796678\n2019-01-18  1.066912  0.604752  0.997308  1.227326  0.624016  0.731394\n2019-01-21  1.068157  0.866403  1.226145  1.103668  0.798123  0.647566\n2019-01-22  0.988012  0.778708  1.102541  1.256465  0.717732  0.835520\n2019-01-23  0.900808  0.718975  1.068268  1.250692  1.030391  0.910875\n2019-01-24  1.182256  0.702117  1.044829  1.183581  0.963255  1.111487\n2019-01-25  1.164637  0.654028  1.004946  1.119871  0.909380  1.030864\n2019-01-28  1.125589  0.631256  0.968288  1.086986  1.106957  0.962350\n2019-01-29  1.064889  0.634708  0.911264  1.087226  1.047104  0.914365\n2019-01-30  1.009043  0.765385  1.047483  1.025147  1.006193  0.872914\n2019-01-31  1.015359  0.723279  1.022016  0.988797  0.950390  0.843139",
      "text/html": "<div>\n<style scoped>\n    .dataframe tbody tr th:only-of-type {\n        vertical-align: middle;\n    }\n\n    .dataframe tbody tr th {\n        vertical-align: top;\n    }\n\n    .dataframe thead tr th {\n        text-align: left;\n    }\n</style>\n<table border=\"1\" class=\"dataframe\">\n  <thead>\n    <tr>\n      <th>Type</th>\n      <th colspan=\"2\" halign=\"left\">A</th>\n      <th colspan=\"2\" halign=\"left\">B</th>\n      <th colspan=\"2\" halign=\"left\">C</th>\n    </tr>\n    <tr>\n      <th>ID</th>\n      <th>1</th>\n      <th>2</th>\n      <th>1</th>\n      <th>2</th>\n      <th>1</th>\n      <th>2</th>\n    </tr>\n  </thead>\n  <tbody>\n    <tr>\n      <th>2019-01-14</th>\n      <td>NaN</td>\n      <td>NaN</td>\n      <td>NaN</td>\n      <td>NaN</td>\n      <td>NaN</td>\n      <td>NaN</td>\n    </tr>\n    <tr>\n      <th>2019-01-15</th>\n      <td>1.329012</td>\n      <td>0.600600</td>\n      <td>1.415864</td>\n      <td>0.783538</td>\n      <td>0.646394</td>\n      <td>1.176705</td>\n    </tr>\n    <tr>\n      <th>2019-01-16</th>\n      <td>1.399919</td>\n      <td>0.471703</td>\n      <td>1.001496</td>\n      <td>0.560694</td>\n      <td>0.787816</td>\n      <td>0.979810</td>\n    </tr>\n    <tr>\n      <th>2019-01-17</th>\n      <td>1.207151</td>\n      <td>0.570722</td>\n      <td>1.065370</td>\n      <td>1.331082</td>\n      <td>0.726449</td>\n      <td>0.796678</td>\n    </tr>\n    <tr>\n      <th>2019-01-18</th>\n      <td>1.066912</td>\n      <td>0.604752</td>\n      <td>0.997308</td>\n      <td>1.227326</td>\n      <td>0.624016</td>\n      <td>0.731394</td>\n    </tr>\n    <tr>\n      <th>2019-01-21</th>\n      <td>1.068157</td>\n      <td>0.866403</td>\n      <td>1.226145</td>\n      <td>1.103668</td>\n      <td>0.798123</td>\n      <td>0.647566</td>\n    </tr>\n    <tr>\n      <th>2019-01-22</th>\n      <td>0.988012</td>\n      <td>0.778708</td>\n      <td>1.102541</td>\n      <td>1.256465</td>\n      <td>0.717732</td>\n      <td>0.835520</td>\n    </tr>\n    <tr>\n      <th>2019-01-23</th>\n      <td>0.900808</td>\n      <td>0.718975</td>\n      <td>1.068268</td>\n      <td>1.250692</td>\n      <td>1.030391</td>\n      <td>0.910875</td>\n    </tr>\n    <tr>\n      <th>2019-01-24</th>\n      <td>1.182256</td>\n      <td>0.702117</td>\n      <td>1.044829</td>\n      <td>1.183581</td>\n      <td>0.963255</td>\n      <td>1.111487</td>\n    </tr>\n    <tr>\n      <th>2019-01-25</th>\n      <td>1.164637</td>\n      <td>0.654028</td>\n      <td>1.004946</td>\n      <td>1.119871</td>\n      <td>0.909380</td>\n      <td>1.030864</td>\n    </tr>\n    <tr>\n      <th>2019-01-28</th>\n      <td>1.125589</td>\n      <td>0.631256</td>\n      <td>0.968288</td>\n      <td>1.086986</td>\n      <td>1.106957</td>\n      <td>0.962350</td>\n    </tr>\n    <tr>\n      <th>2019-01-29</th>\n      <td>1.064889</td>\n      <td>0.634708</td>\n      <td>0.911264</td>\n      <td>1.087226</td>\n      <td>1.047104</td>\n      <td>0.914365</td>\n    </tr>\n    <tr>\n      <th>2019-01-30</th>\n      <td>1.009043</td>\n      <td>0.765385</td>\n      <td>1.047483</td>\n      <td>1.025147</td>\n      <td>1.006193</td>\n      <td>0.872914</td>\n    </tr>\n    <tr>\n      <th>2019-01-31</th>\n      <td>1.015359</td>\n      <td>0.723279</td>\n      <td>1.022016</td>\n      <td>0.988797</td>\n      <td>0.950390</td>\n      <td>0.843139</td>\n    </tr>\n  </tbody>\n</table>\n</div>"
     },
     "execution_count": 55,
     "metadata": {},
     "output_type": "execute_result"
    }
   ],
   "source": [
    "vol_func = RollingVolatility_g_Returns(params=('RiskMetrics',{}))\n",
    "vol = vol_func(returns_df)\n",
    "vol"
   ],
   "metadata": {
    "collapsed": false,
    "ExecuteTime": {
     "end_time": "2023-10-11T01:56:05.238394200Z",
     "start_time": "2023-10-11T01:56:05.189406Z"
    }
   }
  },
  {
   "cell_type": "markdown",
   "source": [
    "As we see, just by providing the 'RiskMetrics' label, the Func class now uses the RiskMetrics parameters. Of course, we can do this using regular \n",
    "functions, but Func allows us to remember multiple parameters for a given function. This is useful when we have multiple parameters that we want. \n",
    "Let us call it again using the 'DRQ' setting."
   ],
   "metadata": {
    "collapsed": false
   }
  },
  {
   "cell_type": "code",
   "execution_count": 56,
   "outputs": [
    {
     "name": "stderr",
     "output_type": "stream",
     "text": [
      "INFO:root:INIT RollingVolatility_g_Returns {'type': 'lin', 'lookback': 5}\n"
     ]
    },
    {
     "data": {
      "text/plain": "Type               A                   B                   C          \nID                 1         2         1         2         1         2\n2019-01-14       NaN       NaN       NaN       NaN       NaN       NaN\n2019-01-15       NaN       NaN       NaN       NaN       NaN       NaN\n2019-01-16       NaN       NaN       NaN       NaN       NaN       NaN\n2019-01-17       NaN       NaN       NaN       NaN       NaN       NaN\n2019-01-18  1.086009  0.593954  0.999320  1.218553  0.643075  0.757506\n2019-01-21  1.069254  0.933727  1.212101  1.225298  0.771134  0.384689\n2019-01-22  1.050456  0.840011  1.147180  1.325645  0.778908  0.691370\n2019-01-23  0.321535  0.859208  1.186474  1.300319  1.127243  0.860951\n2019-01-24  0.906726  0.736277  0.608601  1.169457  0.880544  0.998377\n2019-01-25  1.130853  0.731093  0.824684  1.162417  0.720954  0.958552\n2019-01-28  1.145532  0.340105  0.674829  1.214574  1.357433  0.679075\n2019-01-29  1.197224  0.351898  0.635490  0.289455  1.382724  0.683939\n2019-01-30  1.174764  0.853467  0.952492  0.440490  1.071192  0.675100\n2019-01-31  0.829632  0.805830  1.058047  0.443951  1.012452  0.279581",
      "text/html": "<div>\n<style scoped>\n    .dataframe tbody tr th:only-of-type {\n        vertical-align: middle;\n    }\n\n    .dataframe tbody tr th {\n        vertical-align: top;\n    }\n\n    .dataframe thead tr th {\n        text-align: left;\n    }\n</style>\n<table border=\"1\" class=\"dataframe\">\n  <thead>\n    <tr>\n      <th>Type</th>\n      <th colspan=\"2\" halign=\"left\">A</th>\n      <th colspan=\"2\" halign=\"left\">B</th>\n      <th colspan=\"2\" halign=\"left\">C</th>\n    </tr>\n    <tr>\n      <th>ID</th>\n      <th>1</th>\n      <th>2</th>\n      <th>1</th>\n      <th>2</th>\n      <th>1</th>\n      <th>2</th>\n    </tr>\n  </thead>\n  <tbody>\n    <tr>\n      <th>2019-01-14</th>\n      <td>NaN</td>\n      <td>NaN</td>\n      <td>NaN</td>\n      <td>NaN</td>\n      <td>NaN</td>\n      <td>NaN</td>\n    </tr>\n    <tr>\n      <th>2019-01-15</th>\n      <td>NaN</td>\n      <td>NaN</td>\n      <td>NaN</td>\n      <td>NaN</td>\n      <td>NaN</td>\n      <td>NaN</td>\n    </tr>\n    <tr>\n      <th>2019-01-16</th>\n      <td>NaN</td>\n      <td>NaN</td>\n      <td>NaN</td>\n      <td>NaN</td>\n      <td>NaN</td>\n      <td>NaN</td>\n    </tr>\n    <tr>\n      <th>2019-01-17</th>\n      <td>NaN</td>\n      <td>NaN</td>\n      <td>NaN</td>\n      <td>NaN</td>\n      <td>NaN</td>\n      <td>NaN</td>\n    </tr>\n    <tr>\n      <th>2019-01-18</th>\n      <td>1.086009</td>\n      <td>0.593954</td>\n      <td>0.999320</td>\n      <td>1.218553</td>\n      <td>0.643075</td>\n      <td>0.757506</td>\n    </tr>\n    <tr>\n      <th>2019-01-21</th>\n      <td>1.069254</td>\n      <td>0.933727</td>\n      <td>1.212101</td>\n      <td>1.225298</td>\n      <td>0.771134</td>\n      <td>0.384689</td>\n    </tr>\n    <tr>\n      <th>2019-01-22</th>\n      <td>1.050456</td>\n      <td>0.840011</td>\n      <td>1.147180</td>\n      <td>1.325645</td>\n      <td>0.778908</td>\n      <td>0.691370</td>\n    </tr>\n    <tr>\n      <th>2019-01-23</th>\n      <td>0.321535</td>\n      <td>0.859208</td>\n      <td>1.186474</td>\n      <td>1.300319</td>\n      <td>1.127243</td>\n      <td>0.860951</td>\n    </tr>\n    <tr>\n      <th>2019-01-24</th>\n      <td>0.906726</td>\n      <td>0.736277</td>\n      <td>0.608601</td>\n      <td>1.169457</td>\n      <td>0.880544</td>\n      <td>0.998377</td>\n    </tr>\n    <tr>\n      <th>2019-01-25</th>\n      <td>1.130853</td>\n      <td>0.731093</td>\n      <td>0.824684</td>\n      <td>1.162417</td>\n      <td>0.720954</td>\n      <td>0.958552</td>\n    </tr>\n    <tr>\n      <th>2019-01-28</th>\n      <td>1.145532</td>\n      <td>0.340105</td>\n      <td>0.674829</td>\n      <td>1.214574</td>\n      <td>1.357433</td>\n      <td>0.679075</td>\n    </tr>\n    <tr>\n      <th>2019-01-29</th>\n      <td>1.197224</td>\n      <td>0.351898</td>\n      <td>0.635490</td>\n      <td>0.289455</td>\n      <td>1.382724</td>\n      <td>0.683939</td>\n    </tr>\n    <tr>\n      <th>2019-01-30</th>\n      <td>1.174764</td>\n      <td>0.853467</td>\n      <td>0.952492</td>\n      <td>0.440490</td>\n      <td>1.071192</td>\n      <td>0.675100</td>\n    </tr>\n    <tr>\n      <th>2019-01-31</th>\n      <td>0.829632</td>\n      <td>0.805830</td>\n      <td>1.058047</td>\n      <td>0.443951</td>\n      <td>1.012452</td>\n      <td>0.279581</td>\n    </tr>\n  </tbody>\n</table>\n</div>"
     },
     "execution_count": 56,
     "metadata": {},
     "output_type": "execute_result"
    }
   ],
   "source": [
    "drq_vol_func = RollingVolatility_g_Returns(params=('DRQ',{}))\n",
    "vol = drq_vol_func(returns_df)\n",
    "vol"
   ],
   "metadata": {
    "collapsed": false,
    "ExecuteTime": {
     "end_time": "2023-10-11T01:56:05.240394Z",
     "start_time": "2023-10-11T01:56:05.204395900Z"
    }
   }
  },
  {
   "cell_type": "markdown",
   "source": [
    "We can use the named params while overriding some of the elements of the parameters. For example, let us use the RiskMetrics parameters but \n",
    "override the lookback to 66 days."
   ],
   "metadata": {
    "collapsed": false
   }
  },
  {
   "cell_type": "code",
   "execution_count": 57,
   "outputs": [
    {
     "name": "stderr",
     "output_type": "stream",
     "text": [
      "INFO:root:INIT RollingVolatility_g_Returns {'type': 'lin', 'lookback': 252}\n"
     ]
    },
    {
     "data": {
      "text/plain": "Type         A       B       C    \nID           1   2   1   2   1   2\n2019-01-14 NaN NaN NaN NaN NaN NaN\n2019-01-15 NaN NaN NaN NaN NaN NaN\n2019-01-16 NaN NaN NaN NaN NaN NaN\n2019-01-17 NaN NaN NaN NaN NaN NaN\n2019-01-18 NaN NaN NaN NaN NaN NaN\n2019-01-21 NaN NaN NaN NaN NaN NaN\n2019-01-22 NaN NaN NaN NaN NaN NaN\n2019-01-23 NaN NaN NaN NaN NaN NaN\n2019-01-24 NaN NaN NaN NaN NaN NaN\n2019-01-25 NaN NaN NaN NaN NaN NaN\n2019-01-28 NaN NaN NaN NaN NaN NaN\n2019-01-29 NaN NaN NaN NaN NaN NaN\n2019-01-30 NaN NaN NaN NaN NaN NaN\n2019-01-31 NaN NaN NaN NaN NaN NaN",
      "text/html": "<div>\n<style scoped>\n    .dataframe tbody tr th:only-of-type {\n        vertical-align: middle;\n    }\n\n    .dataframe tbody tr th {\n        vertical-align: top;\n    }\n\n    .dataframe thead tr th {\n        text-align: left;\n    }\n</style>\n<table border=\"1\" class=\"dataframe\">\n  <thead>\n    <tr>\n      <th>Type</th>\n      <th colspan=\"2\" halign=\"left\">A</th>\n      <th colspan=\"2\" halign=\"left\">B</th>\n      <th colspan=\"2\" halign=\"left\">C</th>\n    </tr>\n    <tr>\n      <th>ID</th>\n      <th>1</th>\n      <th>2</th>\n      <th>1</th>\n      <th>2</th>\n      <th>1</th>\n      <th>2</th>\n    </tr>\n  </thead>\n  <tbody>\n    <tr>\n      <th>2019-01-14</th>\n      <td>NaN</td>\n      <td>NaN</td>\n      <td>NaN</td>\n      <td>NaN</td>\n      <td>NaN</td>\n      <td>NaN</td>\n    </tr>\n    <tr>\n      <th>2019-01-15</th>\n      <td>NaN</td>\n      <td>NaN</td>\n      <td>NaN</td>\n      <td>NaN</td>\n      <td>NaN</td>\n      <td>NaN</td>\n    </tr>\n    <tr>\n      <th>2019-01-16</th>\n      <td>NaN</td>\n      <td>NaN</td>\n      <td>NaN</td>\n      <td>NaN</td>\n      <td>NaN</td>\n      <td>NaN</td>\n    </tr>\n    <tr>\n      <th>2019-01-17</th>\n      <td>NaN</td>\n      <td>NaN</td>\n      <td>NaN</td>\n      <td>NaN</td>\n      <td>NaN</td>\n      <td>NaN</td>\n    </tr>\n    <tr>\n      <th>2019-01-18</th>\n      <td>NaN</td>\n      <td>NaN</td>\n      <td>NaN</td>\n      <td>NaN</td>\n      <td>NaN</td>\n      <td>NaN</td>\n    </tr>\n    <tr>\n      <th>2019-01-21</th>\n      <td>NaN</td>\n      <td>NaN</td>\n      <td>NaN</td>\n      <td>NaN</td>\n      <td>NaN</td>\n      <td>NaN</td>\n    </tr>\n    <tr>\n      <th>2019-01-22</th>\n      <td>NaN</td>\n      <td>NaN</td>\n      <td>NaN</td>\n      <td>NaN</td>\n      <td>NaN</td>\n      <td>NaN</td>\n    </tr>\n    <tr>\n      <th>2019-01-23</th>\n      <td>NaN</td>\n      <td>NaN</td>\n      <td>NaN</td>\n      <td>NaN</td>\n      <td>NaN</td>\n      <td>NaN</td>\n    </tr>\n    <tr>\n      <th>2019-01-24</th>\n      <td>NaN</td>\n      <td>NaN</td>\n      <td>NaN</td>\n      <td>NaN</td>\n      <td>NaN</td>\n      <td>NaN</td>\n    </tr>\n    <tr>\n      <th>2019-01-25</th>\n      <td>NaN</td>\n      <td>NaN</td>\n      <td>NaN</td>\n      <td>NaN</td>\n      <td>NaN</td>\n      <td>NaN</td>\n    </tr>\n    <tr>\n      <th>2019-01-28</th>\n      <td>NaN</td>\n      <td>NaN</td>\n      <td>NaN</td>\n      <td>NaN</td>\n      <td>NaN</td>\n      <td>NaN</td>\n    </tr>\n    <tr>\n      <th>2019-01-29</th>\n      <td>NaN</td>\n      <td>NaN</td>\n      <td>NaN</td>\n      <td>NaN</td>\n      <td>NaN</td>\n      <td>NaN</td>\n    </tr>\n    <tr>\n      <th>2019-01-30</th>\n      <td>NaN</td>\n      <td>NaN</td>\n      <td>NaN</td>\n      <td>NaN</td>\n      <td>NaN</td>\n      <td>NaN</td>\n    </tr>\n    <tr>\n      <th>2019-01-31</th>\n      <td>NaN</td>\n      <td>NaN</td>\n      <td>NaN</td>\n      <td>NaN</td>\n      <td>NaN</td>\n      <td>NaN</td>\n    </tr>\n  </tbody>\n</table>\n</div>"
     },
     "execution_count": 57,
     "metadata": {},
     "output_type": "execute_result"
    }
   ],
   "source": [
    "annual_drq_vol_func = RollingVolatility_g_Returns(params=('DRQ',{'lookback': 252}))\n",
    "vol = annual_drq_vol_func(returns_df)\n",
    "vol"
   ],
   "metadata": {
    "collapsed": false,
    "ExecuteTime": {
     "end_time": "2023-10-11T01:56:05.339122600Z",
     "start_time": "2023-10-11T01:56:05.220393900Z"
    }
   }
  },
  {
   "cell_type": "markdown",
   "source": [
    "As we can see the default DRQ params have been updated with a lookback of 252.\n",
    "\n",
    "We can also do this overriding of params while calling the Func as a function"
   ],
   "metadata": {
    "collapsed": false
   }
  },
  {
   "cell_type": "code",
   "execution_count": 58,
   "outputs": [
    {
     "data": {
      "text/plain": "Type         A       B       C    \nID           1   2   1   2   1   2\n2019-01-14 NaN NaN NaN NaN NaN NaN\n2019-01-15 NaN NaN NaN NaN NaN NaN\n2019-01-16 NaN NaN NaN NaN NaN NaN\n2019-01-17 NaN NaN NaN NaN NaN NaN\n2019-01-18 NaN NaN NaN NaN NaN NaN\n2019-01-21 NaN NaN NaN NaN NaN NaN\n2019-01-22 NaN NaN NaN NaN NaN NaN\n2019-01-23 NaN NaN NaN NaN NaN NaN\n2019-01-24 NaN NaN NaN NaN NaN NaN\n2019-01-25 NaN NaN NaN NaN NaN NaN\n2019-01-28 NaN NaN NaN NaN NaN NaN\n2019-01-29 NaN NaN NaN NaN NaN NaN\n2019-01-30 NaN NaN NaN NaN NaN NaN\n2019-01-31 NaN NaN NaN NaN NaN NaN",
      "text/html": "<div>\n<style scoped>\n    .dataframe tbody tr th:only-of-type {\n        vertical-align: middle;\n    }\n\n    .dataframe tbody tr th {\n        vertical-align: top;\n    }\n\n    .dataframe thead tr th {\n        text-align: left;\n    }\n</style>\n<table border=\"1\" class=\"dataframe\">\n  <thead>\n    <tr>\n      <th>Type</th>\n      <th colspan=\"2\" halign=\"left\">A</th>\n      <th colspan=\"2\" halign=\"left\">B</th>\n      <th colspan=\"2\" halign=\"left\">C</th>\n    </tr>\n    <tr>\n      <th>ID</th>\n      <th>1</th>\n      <th>2</th>\n      <th>1</th>\n      <th>2</th>\n      <th>1</th>\n      <th>2</th>\n    </tr>\n  </thead>\n  <tbody>\n    <tr>\n      <th>2019-01-14</th>\n      <td>NaN</td>\n      <td>NaN</td>\n      <td>NaN</td>\n      <td>NaN</td>\n      <td>NaN</td>\n      <td>NaN</td>\n    </tr>\n    <tr>\n      <th>2019-01-15</th>\n      <td>NaN</td>\n      <td>NaN</td>\n      <td>NaN</td>\n      <td>NaN</td>\n      <td>NaN</td>\n      <td>NaN</td>\n    </tr>\n    <tr>\n      <th>2019-01-16</th>\n      <td>NaN</td>\n      <td>NaN</td>\n      <td>NaN</td>\n      <td>NaN</td>\n      <td>NaN</td>\n      <td>NaN</td>\n    </tr>\n    <tr>\n      <th>2019-01-17</th>\n      <td>NaN</td>\n      <td>NaN</td>\n      <td>NaN</td>\n      <td>NaN</td>\n      <td>NaN</td>\n      <td>NaN</td>\n    </tr>\n    <tr>\n      <th>2019-01-18</th>\n      <td>NaN</td>\n      <td>NaN</td>\n      <td>NaN</td>\n      <td>NaN</td>\n      <td>NaN</td>\n      <td>NaN</td>\n    </tr>\n    <tr>\n      <th>2019-01-21</th>\n      <td>NaN</td>\n      <td>NaN</td>\n      <td>NaN</td>\n      <td>NaN</td>\n      <td>NaN</td>\n      <td>NaN</td>\n    </tr>\n    <tr>\n      <th>2019-01-22</th>\n      <td>NaN</td>\n      <td>NaN</td>\n      <td>NaN</td>\n      <td>NaN</td>\n      <td>NaN</td>\n      <td>NaN</td>\n    </tr>\n    <tr>\n      <th>2019-01-23</th>\n      <td>NaN</td>\n      <td>NaN</td>\n      <td>NaN</td>\n      <td>NaN</td>\n      <td>NaN</td>\n      <td>NaN</td>\n    </tr>\n    <tr>\n      <th>2019-01-24</th>\n      <td>NaN</td>\n      <td>NaN</td>\n      <td>NaN</td>\n      <td>NaN</td>\n      <td>NaN</td>\n      <td>NaN</td>\n    </tr>\n    <tr>\n      <th>2019-01-25</th>\n      <td>NaN</td>\n      <td>NaN</td>\n      <td>NaN</td>\n      <td>NaN</td>\n      <td>NaN</td>\n      <td>NaN</td>\n    </tr>\n    <tr>\n      <th>2019-01-28</th>\n      <td>NaN</td>\n      <td>NaN</td>\n      <td>NaN</td>\n      <td>NaN</td>\n      <td>NaN</td>\n      <td>NaN</td>\n    </tr>\n    <tr>\n      <th>2019-01-29</th>\n      <td>NaN</td>\n      <td>NaN</td>\n      <td>NaN</td>\n      <td>NaN</td>\n      <td>NaN</td>\n      <td>NaN</td>\n    </tr>\n    <tr>\n      <th>2019-01-30</th>\n      <td>NaN</td>\n      <td>NaN</td>\n      <td>NaN</td>\n      <td>NaN</td>\n      <td>NaN</td>\n      <td>NaN</td>\n    </tr>\n    <tr>\n      <th>2019-01-31</th>\n      <td>NaN</td>\n      <td>NaN</td>\n      <td>NaN</td>\n      <td>NaN</td>\n      <td>NaN</td>\n      <td>NaN</td>\n    </tr>\n  </tbody>\n</table>\n</div>"
     },
     "execution_count": 58,
     "metadata": {},
     "output_type": "execute_result"
    }
   ],
   "source": [
    "vol = annual_drq_vol_func(returns_df, params={'lookback': 11})\n",
    "vol\n"
   ],
   "metadata": {
    "collapsed": false,
    "ExecuteTime": {
     "end_time": "2023-10-11T01:56:05.351122700Z",
     "start_time": "2023-10-11T01:56:05.235394900Z"
    }
   }
  },
  {
   "cell_type": "markdown",
   "source": [
    "The difference here is that this override is temporary and does not change the default params of the Func class. "
   ],
   "metadata": {
    "collapsed": false
   }
  },
  {
   "cell_type": "code",
   "execution_count": 59,
   "outputs": [
    {
     "data": {
      "text/plain": "{'type': 'lin', 'lookback': 252}"
     },
     "execution_count": 59,
     "metadata": {},
     "output_type": "execute_result"
    }
   ],
   "source": [
    "annual_drq_vol_func.params"
   ],
   "metadata": {
    "collapsed": false,
    "ExecuteTime": {
     "end_time": "2023-10-11T01:56:05.387195Z",
     "start_time": "2023-10-11T01:56:05.265805700Z"
    }
   }
  },
  {
   "cell_type": "markdown",
   "source": [
    "These features are extremely helpful when you have a long list of parameters in quantitative research, with some standardized parameters, but where \n",
    "you also need to change some of the parameters for specific use cases."
   ],
   "metadata": {
    "collapsed": false
   }
  },
  {
   "cell_type": "markdown",
   "source": [
    "## Feature 2: Partial Functions\n",
    "\n",
    "From the above examples, one can see that Func classes can be used to effortlessly create partial functions. Let us look at an example."
   ],
   "metadata": {
    "collapsed": false
   }
  },
  {
   "cell_type": "code",
   "execution_count": 60,
   "outputs": [
    {
     "name": "stderr",
     "output_type": "stream",
     "text": [
      "INFO:root:INIT RollingVolatility_g_Returns {'type': 'lin'}\n"
     ]
    }
   ],
   "source": [
    "class RollingVolatility_g_Returns(Func):\n",
    "    '''Calculates rolling volatility of returns. It can be used to calculate both linear and exponential rolling volatility.'''\n",
    "    @classmethod\n",
    "    def _std_params(cls, name: str = None) -> dict:\n",
    "        return {}\n",
    "\n",
    "    @classmethod\n",
    "    def _execute(cls, operand: DataFrame, params=None) -> DataFrame:\n",
    "        if params['type'] == 'exp':\n",
    "            # calculate the rolling exponential volatility\n",
    "            result = operand.ewm(span=params['lookback']).std()\n",
    "        elif params['type'] == 'lin':\n",
    "            # calculate rolling standard  on the operand dataframe\n",
    "            result = operand.rolling(params['lookback']).std()\n",
    "        else:\n",
    "            raise ValueError(f'given type not implemented. type must be either exp or lin')\n",
    "        \n",
    "        return result\n",
    "    \n",
    "vol_func = RollingVolatility_g_Returns(params={'type': 'lin'})\n"
   ],
   "metadata": {
    "collapsed": false,
    "ExecuteTime": {
     "end_time": "2023-10-11T07:25:29.628216400Z",
     "start_time": "2023-10-11T07:25:29.608996Z"
    }
   }
  },
  {
   "cell_type": "markdown",
   "source": [
    "Now \"vol_func\" behaves like a partial function. We can feed it any lookback parameter \n",
    "that we want."
   ],
   "metadata": {
    "collapsed": false
   }
  },
  {
   "cell_type": "code",
   "execution_count": 63,
   "outputs": [
    {
     "data": {
      "text/plain": "Type               A                   B                   C          \nID                 1         2         1         2         1         2\n2019-01-14       NaN       NaN       NaN       NaN       NaN       NaN\n2019-01-15       NaN       NaN       NaN       NaN       NaN       NaN\n2019-01-16       NaN       NaN       NaN       NaN       NaN       NaN\n2019-01-17       NaN       NaN       NaN       NaN       NaN       NaN\n2019-01-18  1.086009  0.593954  0.999320  1.218553  0.643075  0.757506\n2019-01-21  1.069254  0.933727  1.212101  1.225298  0.771134  0.384689\n2019-01-22  1.050456  0.840011  1.147180  1.325645  0.778908  0.691370\n2019-01-23  0.321535  0.859208  1.186474  1.300319  1.127243  0.860951\n2019-01-24  0.906726  0.736277  0.608601  1.169457  0.880544  0.998377\n2019-01-25  1.130853  0.731093  0.824684  1.162417  0.720954  0.958552\n2019-01-28  1.145532  0.340105  0.674829  1.214574  1.357433  0.679075\n2019-01-29  1.197224  0.351898  0.635490  0.289455  1.382724  0.683939\n2019-01-30  1.174764  0.853467  0.952492  0.440490  1.071192  0.675100\n2019-01-31  0.829632  0.805830  1.058047  0.443951  1.012452  0.279581",
      "text/html": "<div>\n<style scoped>\n    .dataframe tbody tr th:only-of-type {\n        vertical-align: middle;\n    }\n\n    .dataframe tbody tr th {\n        vertical-align: top;\n    }\n\n    .dataframe thead tr th {\n        text-align: left;\n    }\n</style>\n<table border=\"1\" class=\"dataframe\">\n  <thead>\n    <tr>\n      <th>Type</th>\n      <th colspan=\"2\" halign=\"left\">A</th>\n      <th colspan=\"2\" halign=\"left\">B</th>\n      <th colspan=\"2\" halign=\"left\">C</th>\n    </tr>\n    <tr>\n      <th>ID</th>\n      <th>1</th>\n      <th>2</th>\n      <th>1</th>\n      <th>2</th>\n      <th>1</th>\n      <th>2</th>\n    </tr>\n  </thead>\n  <tbody>\n    <tr>\n      <th>2019-01-14</th>\n      <td>NaN</td>\n      <td>NaN</td>\n      <td>NaN</td>\n      <td>NaN</td>\n      <td>NaN</td>\n      <td>NaN</td>\n    </tr>\n    <tr>\n      <th>2019-01-15</th>\n      <td>NaN</td>\n      <td>NaN</td>\n      <td>NaN</td>\n      <td>NaN</td>\n      <td>NaN</td>\n      <td>NaN</td>\n    </tr>\n    <tr>\n      <th>2019-01-16</th>\n      <td>NaN</td>\n      <td>NaN</td>\n      <td>NaN</td>\n      <td>NaN</td>\n      <td>NaN</td>\n      <td>NaN</td>\n    </tr>\n    <tr>\n      <th>2019-01-17</th>\n      <td>NaN</td>\n      <td>NaN</td>\n      <td>NaN</td>\n      <td>NaN</td>\n      <td>NaN</td>\n      <td>NaN</td>\n    </tr>\n    <tr>\n      <th>2019-01-18</th>\n      <td>1.086009</td>\n      <td>0.593954</td>\n      <td>0.999320</td>\n      <td>1.218553</td>\n      <td>0.643075</td>\n      <td>0.757506</td>\n    </tr>\n    <tr>\n      <th>2019-01-21</th>\n      <td>1.069254</td>\n      <td>0.933727</td>\n      <td>1.212101</td>\n      <td>1.225298</td>\n      <td>0.771134</td>\n      <td>0.384689</td>\n    </tr>\n    <tr>\n      <th>2019-01-22</th>\n      <td>1.050456</td>\n      <td>0.840011</td>\n      <td>1.147180</td>\n      <td>1.325645</td>\n      <td>0.778908</td>\n      <td>0.691370</td>\n    </tr>\n    <tr>\n      <th>2019-01-23</th>\n      <td>0.321535</td>\n      <td>0.859208</td>\n      <td>1.186474</td>\n      <td>1.300319</td>\n      <td>1.127243</td>\n      <td>0.860951</td>\n    </tr>\n    <tr>\n      <th>2019-01-24</th>\n      <td>0.906726</td>\n      <td>0.736277</td>\n      <td>0.608601</td>\n      <td>1.169457</td>\n      <td>0.880544</td>\n      <td>0.998377</td>\n    </tr>\n    <tr>\n      <th>2019-01-25</th>\n      <td>1.130853</td>\n      <td>0.731093</td>\n      <td>0.824684</td>\n      <td>1.162417</td>\n      <td>0.720954</td>\n      <td>0.958552</td>\n    </tr>\n    <tr>\n      <th>2019-01-28</th>\n      <td>1.145532</td>\n      <td>0.340105</td>\n      <td>0.674829</td>\n      <td>1.214574</td>\n      <td>1.357433</td>\n      <td>0.679075</td>\n    </tr>\n    <tr>\n      <th>2019-01-29</th>\n      <td>1.197224</td>\n      <td>0.351898</td>\n      <td>0.635490</td>\n      <td>0.289455</td>\n      <td>1.382724</td>\n      <td>0.683939</td>\n    </tr>\n    <tr>\n      <th>2019-01-30</th>\n      <td>1.174764</td>\n      <td>0.853467</td>\n      <td>0.952492</td>\n      <td>0.440490</td>\n      <td>1.071192</td>\n      <td>0.675100</td>\n    </tr>\n    <tr>\n      <th>2019-01-31</th>\n      <td>0.829632</td>\n      <td>0.805830</td>\n      <td>1.058047</td>\n      <td>0.443951</td>\n      <td>1.012452</td>\n      <td>0.279581</td>\n    </tr>\n  </tbody>\n</table>\n</div>"
     },
     "execution_count": 63,
     "metadata": {},
     "output_type": "execute_result"
    }
   ],
   "source": [
    "vol = vol_func(returns_df, {'lookback': 5})\n",
    "vol"
   ],
   "metadata": {
    "collapsed": false,
    "ExecuteTime": {
     "end_time": "2023-10-11T07:26:17.051547Z",
     "start_time": "2023-10-11T07:26:16.981828400Z"
    }
   }
  },
  {
   "cell_type": "code",
   "execution_count": null,
   "outputs": [],
   "source": [],
   "metadata": {
    "collapsed": false
   }
  }
 ],
 "metadata": {
  "kernelspec": {
   "display_name": "base",
   "language": "python",
   "name": "python3"
  },
  "language_info": {
   "codemirror_mode": {
    "name": "ipython",
    "version": 3
   },
   "file_extension": ".py",
   "mimetype": "text/x-python",
   "name": "python",
   "nbconvert_exporter": "python",
   "pygments_lexer": "ipython3",
   "version": "3.10.9"
  },
  "orig_nbformat": 4
 },
 "nbformat": 4,
 "nbformat_minor": 2
}
