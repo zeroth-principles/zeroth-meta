{
 "cells": [
  {
   "cell_type": "markdown",
   "source": [
    "# What the Func?"
   ],
   "metadata": {
    "collapsed": false
   }
  },
  {
   "cell_type": "markdown",
   "source": [
    "What is the need to have Func classes and why not just use functions? What are the additional features that Func classes provide? What are the best\n",
    " practices to use Func classes? Here we provide answers to these questions."
   ],
   "metadata": {
    "collapsed": false
   }
  },
  {
   "cell_type": "markdown",
   "source": [
    "## Environment Setup\n",
    "\n",
    "Here we first create a dataframe of simulated returns which will be used to demonstrate the features of Func classes."
   ],
   "metadata": {
    "collapsed": false
   }
  },
  {
   "cell_type": "code",
   "execution_count": 1,
   "metadata": {
    "ExecuteTime": {
     "end_time": "2024-07-03T18:37:58.632725300Z",
     "start_time": "2024-07-03T18:37:58.100588500Z"
    }
   },
   "outputs": [],
   "source": [
    "from zpmeta.sources.panelsource import PanelSource\n",
    "from zpmeta.funcs.func import Func\n",
    "from zpmeta.singletons.singletons import MultitonMeta\n",
    "from pandas import DataFrame, Series, concat, MultiIndex, date_range, IndexSlice\n",
    "import numpy as np\n",
    "from datetime import datetime\n",
    "import logging\n",
    "\n",
    "logging.basicConfig(level=logging.INFO)"
   ]
  },
  {
   "cell_type": "code",
   "execution_count": 2,
   "metadata": {
    "ExecuteTime": {
     "end_time": "2024-07-03T18:38:00.358453900Z",
     "start_time": "2024-07-03T18:38:00.315697100Z"
    }
   },
   "outputs": [],
   "source": [
    "class RandomReturns(PanelSource, metaclass=MultitonMeta):\n",
    "    '''Subclasses Su to create a dataframe of random numbers.\n",
    "    Accepts a dictionary of parameters, including:\n",
    "    cols: list of column names\n",
    "    '''\n",
    "    def __init__(self, params: dict = None):\n",
    "        super(RandomReturns, self).__init__(params)\n",
    "        self.appendable = dict(xs=True, ts=True)\n",
    "    \n",
    "    def _execute(self, entities=None, period=None):\n",
    "        cols = MultiIndex.from_product([val for val in entities.values()], names=entities.keys())\n",
    "        idx = date_range(period[0], period[1], freq=self.params['freq'])\n",
    "        result = DataFrame(np.random.randn(len(idx), len(cols)), columns=cols, index=idx)\n",
    "        \n",
    "        return result\n",
    "    "
   ]
  },
  {
   "cell_type": "code",
   "execution_count": 3,
   "outputs": [
    {
     "name": "stderr",
     "output_type": "stream",
     "text": [
      "INFO:root:args: ({'freq': 'B'},) ; kwds: {}\n",
      "INFO:root:Multiton checking registry for key: (<class '__main__.RandomReturns'>, '[{\"freq\": \"B\"}]')\n",
      "INFO:root:Multiton No Instance of <class '__main__.RandomReturns'> [{\"freq\": \"B\"}]\n",
      "INFO:root:Multiton Registering Instance of <class '__main__.RandomReturns'> [{\"freq\": \"B\"}]\n"
     ]
    }
   ],
   "source": [
    "returns_source = RandomReturns(dict(freq='B'))"
   ],
   "metadata": {
    "collapsed": false,
    "ExecuteTime": {
     "end_time": "2024-07-03T18:38:02.078436Z",
     "start_time": "2024-07-03T18:38:02.043712800Z"
    }
   }
  },
  {
   "cell_type": "markdown",
   "source": [
    "Let us print the dataframe"
   ],
   "metadata": {
    "collapsed": false
   }
  },
  {
   "cell_type": "code",
   "execution_count": 4,
   "outputs": [
    {
     "name": "stderr",
     "output_type": "stream",
     "text": [
      "INFO:root:RUN RandomReturns {'freq': 'B'}\n",
      "INFO:root:RUN INITIAL: [{'Type': ['A', 'B', 'C'], 'ID': [1, 2]}] 2019-01-12 00:00:00 - 2019-01-31 00:00:00\n",
      "INFO:root:EXEC INITIAL: [{'Type': ['A', 'B', 'C'], 'ID': [1, 2]}] 2019-01-12 00:00:00 - 2019-01-31 00:00:00\n",
      "INFO:root:DONE RandomReturns {'freq': 'B'}\n"
     ]
    },
    {
     "data": {
      "text/plain": "Type               A                   B                   C          \nID                 1         2         1         2         1         2\n2019-01-14  0.024588 -1.227844 -0.028166 -0.620720  0.733272 -0.812820\n2019-01-15  0.165194  0.211131 -1.335635 -0.162569  0.453139  0.735287\n2019-01-16 -0.268999 -0.046242  0.642294  1.095727 -0.585104 -1.857545\n2019-01-17  0.355699  0.793104 -0.821447 -1.088042 -0.162396 -1.077988\n2019-01-18 -2.424699  0.727093 -0.298094 -0.095451  1.185986  0.656399\n2019-01-21 -1.708694  0.243274  0.092338  1.588460  0.140007 -1.040684\n2019-01-22 -0.234414 -0.269426 -0.865951  1.575313  0.983208 -0.181927\n2019-01-23 -0.457994  2.047194  0.915780 -0.522088 -0.044318 -0.711039\n2019-01-24  0.601945 -0.428440 -0.562348  0.642134 -0.916988 -0.795873\n2019-01-25 -0.659989  0.270196 -0.237115 -0.609441  0.878641 -1.601735\n2019-01-28 -0.452823 -1.497136 -0.810277 -1.248586  1.230389 -0.813083\n2019-01-29 -0.779544 -0.042948 -0.695349 -0.621502 -1.635958  0.266640\n2019-01-30 -0.751318 -1.062634 -1.096238  0.743145 -0.855565 -0.254767\n2019-01-31 -0.418586 -0.447138 -0.317123 -2.154474 -0.207347 -0.105016",
      "text/html": "<div>\n<style scoped>\n    .dataframe tbody tr th:only-of-type {\n        vertical-align: middle;\n    }\n\n    .dataframe tbody tr th {\n        vertical-align: top;\n    }\n\n    .dataframe thead tr th {\n        text-align: left;\n    }\n</style>\n<table border=\"1\" class=\"dataframe\">\n  <thead>\n    <tr>\n      <th>Type</th>\n      <th colspan=\"2\" halign=\"left\">A</th>\n      <th colspan=\"2\" halign=\"left\">B</th>\n      <th colspan=\"2\" halign=\"left\">C</th>\n    </tr>\n    <tr>\n      <th>ID</th>\n      <th>1</th>\n      <th>2</th>\n      <th>1</th>\n      <th>2</th>\n      <th>1</th>\n      <th>2</th>\n    </tr>\n  </thead>\n  <tbody>\n    <tr>\n      <th>2019-01-14</th>\n      <td>0.024588</td>\n      <td>-1.227844</td>\n      <td>-0.028166</td>\n      <td>-0.620720</td>\n      <td>0.733272</td>\n      <td>-0.812820</td>\n    </tr>\n    <tr>\n      <th>2019-01-15</th>\n      <td>0.165194</td>\n      <td>0.211131</td>\n      <td>-1.335635</td>\n      <td>-0.162569</td>\n      <td>0.453139</td>\n      <td>0.735287</td>\n    </tr>\n    <tr>\n      <th>2019-01-16</th>\n      <td>-0.268999</td>\n      <td>-0.046242</td>\n      <td>0.642294</td>\n      <td>1.095727</td>\n      <td>-0.585104</td>\n      <td>-1.857545</td>\n    </tr>\n    <tr>\n      <th>2019-01-17</th>\n      <td>0.355699</td>\n      <td>0.793104</td>\n      <td>-0.821447</td>\n      <td>-1.088042</td>\n      <td>-0.162396</td>\n      <td>-1.077988</td>\n    </tr>\n    <tr>\n      <th>2019-01-18</th>\n      <td>-2.424699</td>\n      <td>0.727093</td>\n      <td>-0.298094</td>\n      <td>-0.095451</td>\n      <td>1.185986</td>\n      <td>0.656399</td>\n    </tr>\n    <tr>\n      <th>2019-01-21</th>\n      <td>-1.708694</td>\n      <td>0.243274</td>\n      <td>0.092338</td>\n      <td>1.588460</td>\n      <td>0.140007</td>\n      <td>-1.040684</td>\n    </tr>\n    <tr>\n      <th>2019-01-22</th>\n      <td>-0.234414</td>\n      <td>-0.269426</td>\n      <td>-0.865951</td>\n      <td>1.575313</td>\n      <td>0.983208</td>\n      <td>-0.181927</td>\n    </tr>\n    <tr>\n      <th>2019-01-23</th>\n      <td>-0.457994</td>\n      <td>2.047194</td>\n      <td>0.915780</td>\n      <td>-0.522088</td>\n      <td>-0.044318</td>\n      <td>-0.711039</td>\n    </tr>\n    <tr>\n      <th>2019-01-24</th>\n      <td>0.601945</td>\n      <td>-0.428440</td>\n      <td>-0.562348</td>\n      <td>0.642134</td>\n      <td>-0.916988</td>\n      <td>-0.795873</td>\n    </tr>\n    <tr>\n      <th>2019-01-25</th>\n      <td>-0.659989</td>\n      <td>0.270196</td>\n      <td>-0.237115</td>\n      <td>-0.609441</td>\n      <td>0.878641</td>\n      <td>-1.601735</td>\n    </tr>\n    <tr>\n      <th>2019-01-28</th>\n      <td>-0.452823</td>\n      <td>-1.497136</td>\n      <td>-0.810277</td>\n      <td>-1.248586</td>\n      <td>1.230389</td>\n      <td>-0.813083</td>\n    </tr>\n    <tr>\n      <th>2019-01-29</th>\n      <td>-0.779544</td>\n      <td>-0.042948</td>\n      <td>-0.695349</td>\n      <td>-0.621502</td>\n      <td>-1.635958</td>\n      <td>0.266640</td>\n    </tr>\n    <tr>\n      <th>2019-01-30</th>\n      <td>-0.751318</td>\n      <td>-1.062634</td>\n      <td>-1.096238</td>\n      <td>0.743145</td>\n      <td>-0.855565</td>\n      <td>-0.254767</td>\n    </tr>\n    <tr>\n      <th>2019-01-31</th>\n      <td>-0.418586</td>\n      <td>-0.447138</td>\n      <td>-0.317123</td>\n      <td>-2.154474</td>\n      <td>-0.207347</td>\n      <td>-0.105016</td>\n    </tr>\n  </tbody>\n</table>\n</div>"
     },
     "execution_count": 4,
     "metadata": {},
     "output_type": "execute_result"
    }
   ],
   "source": [
    "returns_df = returns_source(entities=dict(Type=['A','B','C'], ID=[1,2]), period=(datetime(2019,1,12), datetime(2019,1,31)))\n",
    "returns_df\n"
   ],
   "metadata": {
    "collapsed": false,
    "ExecuteTime": {
     "end_time": "2024-07-03T18:38:05.705550500Z",
     "start_time": "2024-07-03T18:38:05.615154400Z"
    }
   }
  },
  {
   "cell_type": "markdown",
   "source": [
    "## Usage Example\n",
    "\n",
    "Let us create a Func class that calculates rolling volatility of returns. It can be used to calculate both linear and exponential rolling volatility."
   ],
   "metadata": {
    "collapsed": false
   }
  },
  {
   "cell_type": "code",
   "execution_count": 5,
   "metadata": {
    "ExecuteTime": {
     "end_time": "2024-07-03T18:38:10.358345Z",
     "start_time": "2024-07-03T18:38:10.336862300Z"
    }
   },
   "outputs": [],
   "source": [
    "class RollingVolatility_g_Returns(Func):\n",
    "    '''Calculates rolling volatility of returns. It can be used to calculate both linear and exponential rolling volatility.'''\n",
    "    @classmethod\n",
    "    def _std_params(cls, name: str = None) -> dict:\n",
    "        return dict(type='lin',lookback = 252)\n",
    "\n",
    "    @classmethod\n",
    "    def _execute(cls, operand: DataFrame, params=None) -> DataFrame:\n",
    "        if params['type'] == 'exp':\n",
    "            # calculate the rolling exponential volatility\n",
    "            result = operand.ewm(span=params['lookback']).std()\n",
    "        elif params['type'] == 'lin':\n",
    "            # calculate rolling standard  on the operand dataframe\n",
    "            result = operand.rolling(params['lookback']).std()\n",
    "        else:\n",
    "            raise ValueError(f'given type not implemented. type must be either exp or lin')\n",
    "        \n",
    "        return result"
   ]
  },
  {
   "cell_type": "markdown",
   "source": [
    "Now let us use this Func class to calculate rolling volatility of the returns dataframe we created earlier."
   ],
   "metadata": {
    "collapsed": false
   }
  },
  {
   "cell_type": "code",
   "execution_count": 6,
   "metadata": {
    "ExecuteTime": {
     "end_time": "2024-07-03T18:38:18.820325300Z",
     "start_time": "2024-07-03T18:38:18.783332500Z"
    }
   },
   "outputs": [
    {
     "name": "stderr",
     "output_type": "stream",
     "text": [
      "INFO:root:INIT RollingVolatility_g_Returns {'type': 'lin', 'lookback': 5}\n"
     ]
    }
   ],
   "source": [
    "vol_func = RollingVolatility_g_Returns(dict(type='lin', lookback=5))"
   ]
  },
  {
   "cell_type": "markdown",
   "source": [
    "This 'vol_func' instance is callable, and it behaves like a usual function. Let us call it on the returns dataframe."
   ],
   "metadata": {
    "collapsed": false
   }
  },
  {
   "cell_type": "code",
   "execution_count": 7,
   "outputs": [
    {
     "data": {
      "text/plain": "Type               A                   B                   C          \nID                 1         2         1         2         1         2\n2019-01-14       NaN       NaN       NaN       NaN       NaN       NaN\n2019-01-15       NaN       NaN       NaN       NaN       NaN       NaN\n2019-01-16       NaN       NaN       NaN       NaN       NaN       NaN\n2019-01-17       NaN       NaN       NaN       NaN       NaN       NaN\n2019-01-18  1.138308  0.817034  0.755480  0.814484  0.705380  1.132910\n2019-01-21  1.225945  0.360507  0.770806  1.070640  0.668462  1.154459\n2019-01-22  1.160502  0.467002  0.636719  1.173245  0.753956  0.962688\n2019-01-23  1.139481  0.862029  0.736484  1.229336  0.619901  0.725463\n2019-01-24  1.210130  0.994837  0.689014  0.957301  0.847397  0.675722\n2019-01-25  0.832584  0.985563  0.686131  1.075951  0.772106  0.516891\n2019-01-28  0.494496  1.299863  0.729875  1.128230  0.892640  0.507628\n2019-01-29  0.549781  1.290977  0.700916  0.687046  1.199727  0.664230\n2019-01-30  0.579096  0.725334  0.316406  0.872034  1.244724  0.698138\n2019-01-31  0.167727  0.724584  0.355806  1.058645  1.190339  0.727275",
      "text/html": "<div>\n<style scoped>\n    .dataframe tbody tr th:only-of-type {\n        vertical-align: middle;\n    }\n\n    .dataframe tbody tr th {\n        vertical-align: top;\n    }\n\n    .dataframe thead tr th {\n        text-align: left;\n    }\n</style>\n<table border=\"1\" class=\"dataframe\">\n  <thead>\n    <tr>\n      <th>Type</th>\n      <th colspan=\"2\" halign=\"left\">A</th>\n      <th colspan=\"2\" halign=\"left\">B</th>\n      <th colspan=\"2\" halign=\"left\">C</th>\n    </tr>\n    <tr>\n      <th>ID</th>\n      <th>1</th>\n      <th>2</th>\n      <th>1</th>\n      <th>2</th>\n      <th>1</th>\n      <th>2</th>\n    </tr>\n  </thead>\n  <tbody>\n    <tr>\n      <th>2019-01-14</th>\n      <td>NaN</td>\n      <td>NaN</td>\n      <td>NaN</td>\n      <td>NaN</td>\n      <td>NaN</td>\n      <td>NaN</td>\n    </tr>\n    <tr>\n      <th>2019-01-15</th>\n      <td>NaN</td>\n      <td>NaN</td>\n      <td>NaN</td>\n      <td>NaN</td>\n      <td>NaN</td>\n      <td>NaN</td>\n    </tr>\n    <tr>\n      <th>2019-01-16</th>\n      <td>NaN</td>\n      <td>NaN</td>\n      <td>NaN</td>\n      <td>NaN</td>\n      <td>NaN</td>\n      <td>NaN</td>\n    </tr>\n    <tr>\n      <th>2019-01-17</th>\n      <td>NaN</td>\n      <td>NaN</td>\n      <td>NaN</td>\n      <td>NaN</td>\n      <td>NaN</td>\n      <td>NaN</td>\n    </tr>\n    <tr>\n      <th>2019-01-18</th>\n      <td>1.138308</td>\n      <td>0.817034</td>\n      <td>0.755480</td>\n      <td>0.814484</td>\n      <td>0.705380</td>\n      <td>1.132910</td>\n    </tr>\n    <tr>\n      <th>2019-01-21</th>\n      <td>1.225945</td>\n      <td>0.360507</td>\n      <td>0.770806</td>\n      <td>1.070640</td>\n      <td>0.668462</td>\n      <td>1.154459</td>\n    </tr>\n    <tr>\n      <th>2019-01-22</th>\n      <td>1.160502</td>\n      <td>0.467002</td>\n      <td>0.636719</td>\n      <td>1.173245</td>\n      <td>0.753956</td>\n      <td>0.962688</td>\n    </tr>\n    <tr>\n      <th>2019-01-23</th>\n      <td>1.139481</td>\n      <td>0.862029</td>\n      <td>0.736484</td>\n      <td>1.229336</td>\n      <td>0.619901</td>\n      <td>0.725463</td>\n    </tr>\n    <tr>\n      <th>2019-01-24</th>\n      <td>1.210130</td>\n      <td>0.994837</td>\n      <td>0.689014</td>\n      <td>0.957301</td>\n      <td>0.847397</td>\n      <td>0.675722</td>\n    </tr>\n    <tr>\n      <th>2019-01-25</th>\n      <td>0.832584</td>\n      <td>0.985563</td>\n      <td>0.686131</td>\n      <td>1.075951</td>\n      <td>0.772106</td>\n      <td>0.516891</td>\n    </tr>\n    <tr>\n      <th>2019-01-28</th>\n      <td>0.494496</td>\n      <td>1.299863</td>\n      <td>0.729875</td>\n      <td>1.128230</td>\n      <td>0.892640</td>\n      <td>0.507628</td>\n    </tr>\n    <tr>\n      <th>2019-01-29</th>\n      <td>0.549781</td>\n      <td>1.290977</td>\n      <td>0.700916</td>\n      <td>0.687046</td>\n      <td>1.199727</td>\n      <td>0.664230</td>\n    </tr>\n    <tr>\n      <th>2019-01-30</th>\n      <td>0.579096</td>\n      <td>0.725334</td>\n      <td>0.316406</td>\n      <td>0.872034</td>\n      <td>1.244724</td>\n      <td>0.698138</td>\n    </tr>\n    <tr>\n      <th>2019-01-31</th>\n      <td>0.167727</td>\n      <td>0.724584</td>\n      <td>0.355806</td>\n      <td>1.058645</td>\n      <td>1.190339</td>\n      <td>0.727275</td>\n    </tr>\n  </tbody>\n</table>\n</div>"
     },
     "execution_count": 7,
     "metadata": {},
     "output_type": "execute_result"
    }
   ],
   "source": [
    "vol = vol_func(returns_df)\n",
    "vol"
   ],
   "metadata": {
    "collapsed": false,
    "ExecuteTime": {
     "end_time": "2024-07-03T18:38:24.477277600Z",
     "start_time": "2024-07-03T18:38:24.413340100Z"
    }
   }
  },
  {
   "cell_type": "markdown",
   "source": [
    "We don't need to create an explicit instance variable to call the Func class. We can call it directly as follows:"
   ],
   "metadata": {
    "collapsed": false
   }
  },
  {
   "cell_type": "code",
   "execution_count": 9,
   "outputs": [
    {
     "name": "stderr",
     "output_type": "stream",
     "text": [
      "INFO:root:INIT RollingVolatility_g_Returns {'type': 'lin', 'lookback': 5}\n"
     ]
    },
    {
     "data": {
      "text/plain": "Type               A                   B                   C          \nID                 1         2         1         2         1         2\n2019-01-14       NaN       NaN       NaN       NaN       NaN       NaN\n2019-01-15       NaN       NaN       NaN       NaN       NaN       NaN\n2019-01-16       NaN       NaN       NaN       NaN       NaN       NaN\n2019-01-17       NaN       NaN       NaN       NaN       NaN       NaN\n2019-01-18  1.138308  0.817034  0.755480  0.814484  0.705380  1.132910\n2019-01-21  1.225945  0.360507  0.770806  1.070640  0.668462  1.154459\n2019-01-22  1.160502  0.467002  0.636719  1.173245  0.753956  0.962688\n2019-01-23  1.139481  0.862029  0.736484  1.229336  0.619901  0.725463\n2019-01-24  1.210130  0.994837  0.689014  0.957301  0.847397  0.675722\n2019-01-25  0.832584  0.985563  0.686131  1.075951  0.772106  0.516891\n2019-01-28  0.494496  1.299863  0.729875  1.128230  0.892640  0.507628\n2019-01-29  0.549781  1.290977  0.700916  0.687046  1.199727  0.664230\n2019-01-30  0.579096  0.725334  0.316406  0.872034  1.244724  0.698138\n2019-01-31  0.167727  0.724584  0.355806  1.058645  1.190339  0.727275",
      "text/html": "<div>\n<style scoped>\n    .dataframe tbody tr th:only-of-type {\n        vertical-align: middle;\n    }\n\n    .dataframe tbody tr th {\n        vertical-align: top;\n    }\n\n    .dataframe thead tr th {\n        text-align: left;\n    }\n</style>\n<table border=\"1\" class=\"dataframe\">\n  <thead>\n    <tr>\n      <th>Type</th>\n      <th colspan=\"2\" halign=\"left\">A</th>\n      <th colspan=\"2\" halign=\"left\">B</th>\n      <th colspan=\"2\" halign=\"left\">C</th>\n    </tr>\n    <tr>\n      <th>ID</th>\n      <th>1</th>\n      <th>2</th>\n      <th>1</th>\n      <th>2</th>\n      <th>1</th>\n      <th>2</th>\n    </tr>\n  </thead>\n  <tbody>\n    <tr>\n      <th>2019-01-14</th>\n      <td>NaN</td>\n      <td>NaN</td>\n      <td>NaN</td>\n      <td>NaN</td>\n      <td>NaN</td>\n      <td>NaN</td>\n    </tr>\n    <tr>\n      <th>2019-01-15</th>\n      <td>NaN</td>\n      <td>NaN</td>\n      <td>NaN</td>\n      <td>NaN</td>\n      <td>NaN</td>\n      <td>NaN</td>\n    </tr>\n    <tr>\n      <th>2019-01-16</th>\n      <td>NaN</td>\n      <td>NaN</td>\n      <td>NaN</td>\n      <td>NaN</td>\n      <td>NaN</td>\n      <td>NaN</td>\n    </tr>\n    <tr>\n      <th>2019-01-17</th>\n      <td>NaN</td>\n      <td>NaN</td>\n      <td>NaN</td>\n      <td>NaN</td>\n      <td>NaN</td>\n      <td>NaN</td>\n    </tr>\n    <tr>\n      <th>2019-01-18</th>\n      <td>1.138308</td>\n      <td>0.817034</td>\n      <td>0.755480</td>\n      <td>0.814484</td>\n      <td>0.705380</td>\n      <td>1.132910</td>\n    </tr>\n    <tr>\n      <th>2019-01-21</th>\n      <td>1.225945</td>\n      <td>0.360507</td>\n      <td>0.770806</td>\n      <td>1.070640</td>\n      <td>0.668462</td>\n      <td>1.154459</td>\n    </tr>\n    <tr>\n      <th>2019-01-22</th>\n      <td>1.160502</td>\n      <td>0.467002</td>\n      <td>0.636719</td>\n      <td>1.173245</td>\n      <td>0.753956</td>\n      <td>0.962688</td>\n    </tr>\n    <tr>\n      <th>2019-01-23</th>\n      <td>1.139481</td>\n      <td>0.862029</td>\n      <td>0.736484</td>\n      <td>1.229336</td>\n      <td>0.619901</td>\n      <td>0.725463</td>\n    </tr>\n    <tr>\n      <th>2019-01-24</th>\n      <td>1.210130</td>\n      <td>0.994837</td>\n      <td>0.689014</td>\n      <td>0.957301</td>\n      <td>0.847397</td>\n      <td>0.675722</td>\n    </tr>\n    <tr>\n      <th>2019-01-25</th>\n      <td>0.832584</td>\n      <td>0.985563</td>\n      <td>0.686131</td>\n      <td>1.075951</td>\n      <td>0.772106</td>\n      <td>0.516891</td>\n    </tr>\n    <tr>\n      <th>2019-01-28</th>\n      <td>0.494496</td>\n      <td>1.299863</td>\n      <td>0.729875</td>\n      <td>1.128230</td>\n      <td>0.892640</td>\n      <td>0.507628</td>\n    </tr>\n    <tr>\n      <th>2019-01-29</th>\n      <td>0.549781</td>\n      <td>1.290977</td>\n      <td>0.700916</td>\n      <td>0.687046</td>\n      <td>1.199727</td>\n      <td>0.664230</td>\n    </tr>\n    <tr>\n      <th>2019-01-30</th>\n      <td>0.579096</td>\n      <td>0.725334</td>\n      <td>0.316406</td>\n      <td>0.872034</td>\n      <td>1.244724</td>\n      <td>0.698138</td>\n    </tr>\n    <tr>\n      <th>2019-01-31</th>\n      <td>0.167727</td>\n      <td>0.724584</td>\n      <td>0.355806</td>\n      <td>1.058645</td>\n      <td>1.190339</td>\n      <td>0.727275</td>\n    </tr>\n  </tbody>\n</table>\n</div>"
     },
     "execution_count": 9,
     "metadata": {},
     "output_type": "execute_result"
    }
   ],
   "source": [
    "vol = RollingVolatility_g_Returns(dict(type='lin', lookback=5))(returns_df)\n",
    "vol"
   ],
   "metadata": {
    "collapsed": false,
    "ExecuteTime": {
     "end_time": "2024-07-03T18:38:52.802836500Z",
     "start_time": "2024-07-03T18:38:52.758904300Z"
    }
   }
  },
  {
   "cell_type": "markdown",
   "source": [
    "## Feature 1: Default Params\n",
    "\n",
    "Using the _std_params method, we can define default parameters for the Func class. These default parameters are used if the user does not provide \n",
    "the params while calling the Func instance. In the above example, we have defined the default params as type='lin' and lookback=252. If the user \n",
    "does not provide these params while calling the Func instance, it returns the rolling linear volatility with a lookback of 252 days.\n",
    "\n",
    "Default params are an in-built feature in Python, what else can we do with Funcs? We can provide named default params. Let us define a Func \n",
    "class that calculates the rolling volatility as per the RiskMetrics methodology. Let us redefine our class as follows:"
   ],
   "metadata": {
    "collapsed": false
   }
  },
  {
   "cell_type": "code",
   "execution_count": 10,
   "metadata": {
    "ExecuteTime": {
     "end_time": "2024-07-03T18:40:24.511716600Z",
     "start_time": "2024-07-03T18:40:24.489031700Z"
    }
   },
   "outputs": [],
   "source": [
    "class RollingVolatility_g_Returns(Func):\n",
    "    '''Calculates rolling volatility of returns. It can be used to calculate both linear and exponential rolling volatility.'''\n",
    "    @classmethod\n",
    "    def _std_params(cls, name: str = None) -> dict:\n",
    "        if name is None:\n",
    "            return dict(type='lin',lookback = 252)\n",
    "        elif name == 'RiskMetrics':\n",
    "            return dict(type='exp',lookback = 33)\n",
    "        elif name == 'DRQ':\n",
    "            return dict(type='lin',lookback = 5)\n",
    "        else:\n",
    "            raise ValueError(f'given name not implemented. name must be either None or RiskMetrics')\n",
    "        \n",
    "        return dict(type='lin',lookback = 252)\n",
    "\n",
    "    @classmethod\n",
    "    def _execute(cls, operand: DataFrame, params=None) -> DataFrame:\n",
    "        if params['type'] == 'exp':\n",
    "            # calculate the rolling exponential volatility\n",
    "            result = operand.ewm(span=params['lookback']).std()\n",
    "        elif params['type'] == 'lin':\n",
    "            # calculate rolling standard  on the operand dataframe\n",
    "            result = operand.rolling(params['lookback']).std()\n",
    "        else:\n",
    "            raise ValueError(f'given type not implemented. type must be either exp or lin')\n",
    "        \n",
    "        return result"
   ]
  },
  {
   "cell_type": "markdown",
   "source": [
    "Now let us see the power of default parameters."
   ],
   "metadata": {
    "collapsed": false
   }
  },
  {
   "cell_type": "code",
   "execution_count": 11,
   "outputs": [
    {
     "name": "stderr",
     "output_type": "stream",
     "text": [
      "INFO:root:INIT RollingVolatility_g_Returns {'type': 'exp', 'lookback': 33}\n"
     ]
    },
    {
     "data": {
      "text/plain": "Type               A                   B                   C          \nID                 1         2         1         2         1         2\n2019-01-14       NaN       NaN       NaN       NaN       NaN       NaN\n2019-01-15  0.099424  1.017509  0.924520  0.323962  0.198084  1.094677\n2019-01-16  0.225364  0.754015  1.017148  0.896299  0.701626  1.321440\n2019-01-17  0.269758  0.838057  0.873233  0.958312  0.589988  1.083192\n2019-01-18  1.189799  0.795978  0.745675  0.818357  0.720537  1.141404\n2019-01-21  1.173020  0.702038  0.686079  1.048975  0.639656  1.036183\n2019-01-22  1.072420  0.654833  0.660811  1.102645  0.639341  0.944084\n2019-01-23  0.979494  0.961649  0.782031  1.066295  0.608282  0.863774\n2019-01-24  1.006399  0.934949  0.733280  0.991145  0.726837  0.800713\n2019-01-25  0.936530  0.867097  0.680062  0.976069  0.719945  0.827501\n2019-01-28  0.873862  1.011367  0.664453  1.036620  0.749859  0.773000\n2019-01-29  0.825841  0.948904  0.636416  0.995229  0.970077  0.795219\n2019-01-30  0.781537  0.962953  0.646082  0.971488  0.969035  0.757173\n2019-01-31  0.739030  0.917257  0.611271  1.149036  0.918558  0.729971",
      "text/html": "<div>\n<style scoped>\n    .dataframe tbody tr th:only-of-type {\n        vertical-align: middle;\n    }\n\n    .dataframe tbody tr th {\n        vertical-align: top;\n    }\n\n    .dataframe thead tr th {\n        text-align: left;\n    }\n</style>\n<table border=\"1\" class=\"dataframe\">\n  <thead>\n    <tr>\n      <th>Type</th>\n      <th colspan=\"2\" halign=\"left\">A</th>\n      <th colspan=\"2\" halign=\"left\">B</th>\n      <th colspan=\"2\" halign=\"left\">C</th>\n    </tr>\n    <tr>\n      <th>ID</th>\n      <th>1</th>\n      <th>2</th>\n      <th>1</th>\n      <th>2</th>\n      <th>1</th>\n      <th>2</th>\n    </tr>\n  </thead>\n  <tbody>\n    <tr>\n      <th>2019-01-14</th>\n      <td>NaN</td>\n      <td>NaN</td>\n      <td>NaN</td>\n      <td>NaN</td>\n      <td>NaN</td>\n      <td>NaN</td>\n    </tr>\n    <tr>\n      <th>2019-01-15</th>\n      <td>0.099424</td>\n      <td>1.017509</td>\n      <td>0.924520</td>\n      <td>0.323962</td>\n      <td>0.198084</td>\n      <td>1.094677</td>\n    </tr>\n    <tr>\n      <th>2019-01-16</th>\n      <td>0.225364</td>\n      <td>0.754015</td>\n      <td>1.017148</td>\n      <td>0.896299</td>\n      <td>0.701626</td>\n      <td>1.321440</td>\n    </tr>\n    <tr>\n      <th>2019-01-17</th>\n      <td>0.269758</td>\n      <td>0.838057</td>\n      <td>0.873233</td>\n      <td>0.958312</td>\n      <td>0.589988</td>\n      <td>1.083192</td>\n    </tr>\n    <tr>\n      <th>2019-01-18</th>\n      <td>1.189799</td>\n      <td>0.795978</td>\n      <td>0.745675</td>\n      <td>0.818357</td>\n      <td>0.720537</td>\n      <td>1.141404</td>\n    </tr>\n    <tr>\n      <th>2019-01-21</th>\n      <td>1.173020</td>\n      <td>0.702038</td>\n      <td>0.686079</td>\n      <td>1.048975</td>\n      <td>0.639656</td>\n      <td>1.036183</td>\n    </tr>\n    <tr>\n      <th>2019-01-22</th>\n      <td>1.072420</td>\n      <td>0.654833</td>\n      <td>0.660811</td>\n      <td>1.102645</td>\n      <td>0.639341</td>\n      <td>0.944084</td>\n    </tr>\n    <tr>\n      <th>2019-01-23</th>\n      <td>0.979494</td>\n      <td>0.961649</td>\n      <td>0.782031</td>\n      <td>1.066295</td>\n      <td>0.608282</td>\n      <td>0.863774</td>\n    </tr>\n    <tr>\n      <th>2019-01-24</th>\n      <td>1.006399</td>\n      <td>0.934949</td>\n      <td>0.733280</td>\n      <td>0.991145</td>\n      <td>0.726837</td>\n      <td>0.800713</td>\n    </tr>\n    <tr>\n      <th>2019-01-25</th>\n      <td>0.936530</td>\n      <td>0.867097</td>\n      <td>0.680062</td>\n      <td>0.976069</td>\n      <td>0.719945</td>\n      <td>0.827501</td>\n    </tr>\n    <tr>\n      <th>2019-01-28</th>\n      <td>0.873862</td>\n      <td>1.011367</td>\n      <td>0.664453</td>\n      <td>1.036620</td>\n      <td>0.749859</td>\n      <td>0.773000</td>\n    </tr>\n    <tr>\n      <th>2019-01-29</th>\n      <td>0.825841</td>\n      <td>0.948904</td>\n      <td>0.636416</td>\n      <td>0.995229</td>\n      <td>0.970077</td>\n      <td>0.795219</td>\n    </tr>\n    <tr>\n      <th>2019-01-30</th>\n      <td>0.781537</td>\n      <td>0.962953</td>\n      <td>0.646082</td>\n      <td>0.971488</td>\n      <td>0.969035</td>\n      <td>0.757173</td>\n    </tr>\n    <tr>\n      <th>2019-01-31</th>\n      <td>0.739030</td>\n      <td>0.917257</td>\n      <td>0.611271</td>\n      <td>1.149036</td>\n      <td>0.918558</td>\n      <td>0.729971</td>\n    </tr>\n  </tbody>\n</table>\n</div>"
     },
     "execution_count": 11,
     "metadata": {},
     "output_type": "execute_result"
    }
   ],
   "source": [
    "vol_func = RollingVolatility_g_Returns(params=('RiskMetrics',{}))\n",
    "vol = vol_func(returns_df)\n",
    "vol"
   ],
   "metadata": {
    "collapsed": false,
    "ExecuteTime": {
     "end_time": "2024-07-03T18:40:27.548561600Z",
     "start_time": "2024-07-03T18:40:27.468178100Z"
    }
   }
  },
  {
   "cell_type": "markdown",
   "source": [
    "As we see, just by providing the 'RiskMetrics' label, the Func class now uses the RiskMetrics parameters. Of course, we can do this using regular \n",
    "functions, but Func allows us to remember multiple parameters for a given function. This is useful when we have multiple parameters that we want. \n",
    "Let us call it again using the 'DRQ' setting."
   ],
   "metadata": {
    "collapsed": false
   }
  },
  {
   "cell_type": "code",
   "execution_count": 12,
   "outputs": [
    {
     "name": "stderr",
     "output_type": "stream",
     "text": [
      "INFO:root:INIT RollingVolatility_g_Returns {'type': 'lin', 'lookback': 5}\n"
     ]
    },
    {
     "data": {
      "text/plain": "Type               A                   B                   C          \nID                 1         2         1         2         1         2\n2019-01-14       NaN       NaN       NaN       NaN       NaN       NaN\n2019-01-15       NaN       NaN       NaN       NaN       NaN       NaN\n2019-01-16       NaN       NaN       NaN       NaN       NaN       NaN\n2019-01-17       NaN       NaN       NaN       NaN       NaN       NaN\n2019-01-18  1.138308  0.817034  0.755480  0.814484  0.705380  1.132910\n2019-01-21  1.225945  0.360507  0.770806  1.070640  0.668462  1.154459\n2019-01-22  1.160502  0.467002  0.636719  1.173245  0.753956  0.962688\n2019-01-23  1.139481  0.862029  0.736484  1.229336  0.619901  0.725463\n2019-01-24  1.210130  0.994837  0.689014  0.957301  0.847397  0.675722\n2019-01-25  0.832584  0.985563  0.686131  1.075951  0.772106  0.516891\n2019-01-28  0.494496  1.299863  0.729875  1.128230  0.892640  0.507628\n2019-01-29  0.549781  1.290977  0.700916  0.687046  1.199727  0.664230\n2019-01-30  0.579096  0.725334  0.316406  0.872034  1.244724  0.698138\n2019-01-31  0.167727  0.724584  0.355806  1.058645  1.190339  0.727275",
      "text/html": "<div>\n<style scoped>\n    .dataframe tbody tr th:only-of-type {\n        vertical-align: middle;\n    }\n\n    .dataframe tbody tr th {\n        vertical-align: top;\n    }\n\n    .dataframe thead tr th {\n        text-align: left;\n    }\n</style>\n<table border=\"1\" class=\"dataframe\">\n  <thead>\n    <tr>\n      <th>Type</th>\n      <th colspan=\"2\" halign=\"left\">A</th>\n      <th colspan=\"2\" halign=\"left\">B</th>\n      <th colspan=\"2\" halign=\"left\">C</th>\n    </tr>\n    <tr>\n      <th>ID</th>\n      <th>1</th>\n      <th>2</th>\n      <th>1</th>\n      <th>2</th>\n      <th>1</th>\n      <th>2</th>\n    </tr>\n  </thead>\n  <tbody>\n    <tr>\n      <th>2019-01-14</th>\n      <td>NaN</td>\n      <td>NaN</td>\n      <td>NaN</td>\n      <td>NaN</td>\n      <td>NaN</td>\n      <td>NaN</td>\n    </tr>\n    <tr>\n      <th>2019-01-15</th>\n      <td>NaN</td>\n      <td>NaN</td>\n      <td>NaN</td>\n      <td>NaN</td>\n      <td>NaN</td>\n      <td>NaN</td>\n    </tr>\n    <tr>\n      <th>2019-01-16</th>\n      <td>NaN</td>\n      <td>NaN</td>\n      <td>NaN</td>\n      <td>NaN</td>\n      <td>NaN</td>\n      <td>NaN</td>\n    </tr>\n    <tr>\n      <th>2019-01-17</th>\n      <td>NaN</td>\n      <td>NaN</td>\n      <td>NaN</td>\n      <td>NaN</td>\n      <td>NaN</td>\n      <td>NaN</td>\n    </tr>\n    <tr>\n      <th>2019-01-18</th>\n      <td>1.138308</td>\n      <td>0.817034</td>\n      <td>0.755480</td>\n      <td>0.814484</td>\n      <td>0.705380</td>\n      <td>1.132910</td>\n    </tr>\n    <tr>\n      <th>2019-01-21</th>\n      <td>1.225945</td>\n      <td>0.360507</td>\n      <td>0.770806</td>\n      <td>1.070640</td>\n      <td>0.668462</td>\n      <td>1.154459</td>\n    </tr>\n    <tr>\n      <th>2019-01-22</th>\n      <td>1.160502</td>\n      <td>0.467002</td>\n      <td>0.636719</td>\n      <td>1.173245</td>\n      <td>0.753956</td>\n      <td>0.962688</td>\n    </tr>\n    <tr>\n      <th>2019-01-23</th>\n      <td>1.139481</td>\n      <td>0.862029</td>\n      <td>0.736484</td>\n      <td>1.229336</td>\n      <td>0.619901</td>\n      <td>0.725463</td>\n    </tr>\n    <tr>\n      <th>2019-01-24</th>\n      <td>1.210130</td>\n      <td>0.994837</td>\n      <td>0.689014</td>\n      <td>0.957301</td>\n      <td>0.847397</td>\n      <td>0.675722</td>\n    </tr>\n    <tr>\n      <th>2019-01-25</th>\n      <td>0.832584</td>\n      <td>0.985563</td>\n      <td>0.686131</td>\n      <td>1.075951</td>\n      <td>0.772106</td>\n      <td>0.516891</td>\n    </tr>\n    <tr>\n      <th>2019-01-28</th>\n      <td>0.494496</td>\n      <td>1.299863</td>\n      <td>0.729875</td>\n      <td>1.128230</td>\n      <td>0.892640</td>\n      <td>0.507628</td>\n    </tr>\n    <tr>\n      <th>2019-01-29</th>\n      <td>0.549781</td>\n      <td>1.290977</td>\n      <td>0.700916</td>\n      <td>0.687046</td>\n      <td>1.199727</td>\n      <td>0.664230</td>\n    </tr>\n    <tr>\n      <th>2019-01-30</th>\n      <td>0.579096</td>\n      <td>0.725334</td>\n      <td>0.316406</td>\n      <td>0.872034</td>\n      <td>1.244724</td>\n      <td>0.698138</td>\n    </tr>\n    <tr>\n      <th>2019-01-31</th>\n      <td>0.167727</td>\n      <td>0.724584</td>\n      <td>0.355806</td>\n      <td>1.058645</td>\n      <td>1.190339</td>\n      <td>0.727275</td>\n    </tr>\n  </tbody>\n</table>\n</div>"
     },
     "execution_count": 12,
     "metadata": {},
     "output_type": "execute_result"
    }
   ],
   "source": [
    "drq_vol_func = RollingVolatility_g_Returns(params=('DRQ',{}))\n",
    "vol = drq_vol_func(returns_df)\n",
    "vol"
   ],
   "metadata": {
    "collapsed": false,
    "ExecuteTime": {
     "end_time": "2024-07-03T18:40:30.994881400Z",
     "start_time": "2024-07-03T18:40:30.899310800Z"
    }
   }
  },
  {
   "cell_type": "markdown",
   "source": [
    "We can use the named params while overriding some of the elements of the parameters. For example, let us use the RiskMetrics parameters but \n",
    "override the lookback to 66 days."
   ],
   "metadata": {
    "collapsed": false
   }
  },
  {
   "cell_type": "code",
   "execution_count": 57,
   "outputs": [
    {
     "name": "stderr",
     "output_type": "stream",
     "text": [
      "INFO:root:INIT RollingVolatility_g_Returns {'type': 'lin', 'lookback': 252}\n"
     ]
    },
    {
     "data": {
      "text/plain": "Type         A       B       C    \nID           1   2   1   2   1   2\n2019-01-14 NaN NaN NaN NaN NaN NaN\n2019-01-15 NaN NaN NaN NaN NaN NaN\n2019-01-16 NaN NaN NaN NaN NaN NaN\n2019-01-17 NaN NaN NaN NaN NaN NaN\n2019-01-18 NaN NaN NaN NaN NaN NaN\n2019-01-21 NaN NaN NaN NaN NaN NaN\n2019-01-22 NaN NaN NaN NaN NaN NaN\n2019-01-23 NaN NaN NaN NaN NaN NaN\n2019-01-24 NaN NaN NaN NaN NaN NaN\n2019-01-25 NaN NaN NaN NaN NaN NaN\n2019-01-28 NaN NaN NaN NaN NaN NaN\n2019-01-29 NaN NaN NaN NaN NaN NaN\n2019-01-30 NaN NaN NaN NaN NaN NaN\n2019-01-31 NaN NaN NaN NaN NaN NaN",
      "text/html": "<div>\n<style scoped>\n    .dataframe tbody tr th:only-of-type {\n        vertical-align: middle;\n    }\n\n    .dataframe tbody tr th {\n        vertical-align: top;\n    }\n\n    .dataframe thead tr th {\n        text-align: left;\n    }\n</style>\n<table border=\"1\" class=\"dataframe\">\n  <thead>\n    <tr>\n      <th>Type</th>\n      <th colspan=\"2\" halign=\"left\">A</th>\n      <th colspan=\"2\" halign=\"left\">B</th>\n      <th colspan=\"2\" halign=\"left\">C</th>\n    </tr>\n    <tr>\n      <th>ID</th>\n      <th>1</th>\n      <th>2</th>\n      <th>1</th>\n      <th>2</th>\n      <th>1</th>\n      <th>2</th>\n    </tr>\n  </thead>\n  <tbody>\n    <tr>\n      <th>2019-01-14</th>\n      <td>NaN</td>\n      <td>NaN</td>\n      <td>NaN</td>\n      <td>NaN</td>\n      <td>NaN</td>\n      <td>NaN</td>\n    </tr>\n    <tr>\n      <th>2019-01-15</th>\n      <td>NaN</td>\n      <td>NaN</td>\n      <td>NaN</td>\n      <td>NaN</td>\n      <td>NaN</td>\n      <td>NaN</td>\n    </tr>\n    <tr>\n      <th>2019-01-16</th>\n      <td>NaN</td>\n      <td>NaN</td>\n      <td>NaN</td>\n      <td>NaN</td>\n      <td>NaN</td>\n      <td>NaN</td>\n    </tr>\n    <tr>\n      <th>2019-01-17</th>\n      <td>NaN</td>\n      <td>NaN</td>\n      <td>NaN</td>\n      <td>NaN</td>\n      <td>NaN</td>\n      <td>NaN</td>\n    </tr>\n    <tr>\n      <th>2019-01-18</th>\n      <td>NaN</td>\n      <td>NaN</td>\n      <td>NaN</td>\n      <td>NaN</td>\n      <td>NaN</td>\n      <td>NaN</td>\n    </tr>\n    <tr>\n      <th>2019-01-21</th>\n      <td>NaN</td>\n      <td>NaN</td>\n      <td>NaN</td>\n      <td>NaN</td>\n      <td>NaN</td>\n      <td>NaN</td>\n    </tr>\n    <tr>\n      <th>2019-01-22</th>\n      <td>NaN</td>\n      <td>NaN</td>\n      <td>NaN</td>\n      <td>NaN</td>\n      <td>NaN</td>\n      <td>NaN</td>\n    </tr>\n    <tr>\n      <th>2019-01-23</th>\n      <td>NaN</td>\n      <td>NaN</td>\n      <td>NaN</td>\n      <td>NaN</td>\n      <td>NaN</td>\n      <td>NaN</td>\n    </tr>\n    <tr>\n      <th>2019-01-24</th>\n      <td>NaN</td>\n      <td>NaN</td>\n      <td>NaN</td>\n      <td>NaN</td>\n      <td>NaN</td>\n      <td>NaN</td>\n    </tr>\n    <tr>\n      <th>2019-01-25</th>\n      <td>NaN</td>\n      <td>NaN</td>\n      <td>NaN</td>\n      <td>NaN</td>\n      <td>NaN</td>\n      <td>NaN</td>\n    </tr>\n    <tr>\n      <th>2019-01-28</th>\n      <td>NaN</td>\n      <td>NaN</td>\n      <td>NaN</td>\n      <td>NaN</td>\n      <td>NaN</td>\n      <td>NaN</td>\n    </tr>\n    <tr>\n      <th>2019-01-29</th>\n      <td>NaN</td>\n      <td>NaN</td>\n      <td>NaN</td>\n      <td>NaN</td>\n      <td>NaN</td>\n      <td>NaN</td>\n    </tr>\n    <tr>\n      <th>2019-01-30</th>\n      <td>NaN</td>\n      <td>NaN</td>\n      <td>NaN</td>\n      <td>NaN</td>\n      <td>NaN</td>\n      <td>NaN</td>\n    </tr>\n    <tr>\n      <th>2019-01-31</th>\n      <td>NaN</td>\n      <td>NaN</td>\n      <td>NaN</td>\n      <td>NaN</td>\n      <td>NaN</td>\n      <td>NaN</td>\n    </tr>\n  </tbody>\n</table>\n</div>"
     },
     "execution_count": 57,
     "metadata": {},
     "output_type": "execute_result"
    }
   ],
   "source": [
    "annual_drq_vol_func = RollingVolatility_g_Returns(params=('DRQ',{'lookback': 252}))\n",
    "vol = annual_drq_vol_func(returns_df)\n",
    "vol"
   ],
   "metadata": {
    "collapsed": false,
    "ExecuteTime": {
     "end_time": "2023-10-11T01:56:05.339122600Z",
     "start_time": "2023-10-11T01:56:05.220393900Z"
    }
   }
  },
  {
   "cell_type": "markdown",
   "source": [
    "As we can see the default DRQ params have been updated with a lookback of 252.\n",
    "\n",
    "We can also do this overriding of params while calling the Func as a function"
   ],
   "metadata": {
    "collapsed": false
   }
  },
  {
   "cell_type": "code",
   "execution_count": 58,
   "outputs": [
    {
     "data": {
      "text/plain": "Type         A       B       C    \nID           1   2   1   2   1   2\n2019-01-14 NaN NaN NaN NaN NaN NaN\n2019-01-15 NaN NaN NaN NaN NaN NaN\n2019-01-16 NaN NaN NaN NaN NaN NaN\n2019-01-17 NaN NaN NaN NaN NaN NaN\n2019-01-18 NaN NaN NaN NaN NaN NaN\n2019-01-21 NaN NaN NaN NaN NaN NaN\n2019-01-22 NaN NaN NaN NaN NaN NaN\n2019-01-23 NaN NaN NaN NaN NaN NaN\n2019-01-24 NaN NaN NaN NaN NaN NaN\n2019-01-25 NaN NaN NaN NaN NaN NaN\n2019-01-28 NaN NaN NaN NaN NaN NaN\n2019-01-29 NaN NaN NaN NaN NaN NaN\n2019-01-30 NaN NaN NaN NaN NaN NaN\n2019-01-31 NaN NaN NaN NaN NaN NaN",
      "text/html": "<div>\n<style scoped>\n    .dataframe tbody tr th:only-of-type {\n        vertical-align: middle;\n    }\n\n    .dataframe tbody tr th {\n        vertical-align: top;\n    }\n\n    .dataframe thead tr th {\n        text-align: left;\n    }\n</style>\n<table border=\"1\" class=\"dataframe\">\n  <thead>\n    <tr>\n      <th>Type</th>\n      <th colspan=\"2\" halign=\"left\">A</th>\n      <th colspan=\"2\" halign=\"left\">B</th>\n      <th colspan=\"2\" halign=\"left\">C</th>\n    </tr>\n    <tr>\n      <th>ID</th>\n      <th>1</th>\n      <th>2</th>\n      <th>1</th>\n      <th>2</th>\n      <th>1</th>\n      <th>2</th>\n    </tr>\n  </thead>\n  <tbody>\n    <tr>\n      <th>2019-01-14</th>\n      <td>NaN</td>\n      <td>NaN</td>\n      <td>NaN</td>\n      <td>NaN</td>\n      <td>NaN</td>\n      <td>NaN</td>\n    </tr>\n    <tr>\n      <th>2019-01-15</th>\n      <td>NaN</td>\n      <td>NaN</td>\n      <td>NaN</td>\n      <td>NaN</td>\n      <td>NaN</td>\n      <td>NaN</td>\n    </tr>\n    <tr>\n      <th>2019-01-16</th>\n      <td>NaN</td>\n      <td>NaN</td>\n      <td>NaN</td>\n      <td>NaN</td>\n      <td>NaN</td>\n      <td>NaN</td>\n    </tr>\n    <tr>\n      <th>2019-01-17</th>\n      <td>NaN</td>\n      <td>NaN</td>\n      <td>NaN</td>\n      <td>NaN</td>\n      <td>NaN</td>\n      <td>NaN</td>\n    </tr>\n    <tr>\n      <th>2019-01-18</th>\n      <td>NaN</td>\n      <td>NaN</td>\n      <td>NaN</td>\n      <td>NaN</td>\n      <td>NaN</td>\n      <td>NaN</td>\n    </tr>\n    <tr>\n      <th>2019-01-21</th>\n      <td>NaN</td>\n      <td>NaN</td>\n      <td>NaN</td>\n      <td>NaN</td>\n      <td>NaN</td>\n      <td>NaN</td>\n    </tr>\n    <tr>\n      <th>2019-01-22</th>\n      <td>NaN</td>\n      <td>NaN</td>\n      <td>NaN</td>\n      <td>NaN</td>\n      <td>NaN</td>\n      <td>NaN</td>\n    </tr>\n    <tr>\n      <th>2019-01-23</th>\n      <td>NaN</td>\n      <td>NaN</td>\n      <td>NaN</td>\n      <td>NaN</td>\n      <td>NaN</td>\n      <td>NaN</td>\n    </tr>\n    <tr>\n      <th>2019-01-24</th>\n      <td>NaN</td>\n      <td>NaN</td>\n      <td>NaN</td>\n      <td>NaN</td>\n      <td>NaN</td>\n      <td>NaN</td>\n    </tr>\n    <tr>\n      <th>2019-01-25</th>\n      <td>NaN</td>\n      <td>NaN</td>\n      <td>NaN</td>\n      <td>NaN</td>\n      <td>NaN</td>\n      <td>NaN</td>\n    </tr>\n    <tr>\n      <th>2019-01-28</th>\n      <td>NaN</td>\n      <td>NaN</td>\n      <td>NaN</td>\n      <td>NaN</td>\n      <td>NaN</td>\n      <td>NaN</td>\n    </tr>\n    <tr>\n      <th>2019-01-29</th>\n      <td>NaN</td>\n      <td>NaN</td>\n      <td>NaN</td>\n      <td>NaN</td>\n      <td>NaN</td>\n      <td>NaN</td>\n    </tr>\n    <tr>\n      <th>2019-01-30</th>\n      <td>NaN</td>\n      <td>NaN</td>\n      <td>NaN</td>\n      <td>NaN</td>\n      <td>NaN</td>\n      <td>NaN</td>\n    </tr>\n    <tr>\n      <th>2019-01-31</th>\n      <td>NaN</td>\n      <td>NaN</td>\n      <td>NaN</td>\n      <td>NaN</td>\n      <td>NaN</td>\n      <td>NaN</td>\n    </tr>\n  </tbody>\n</table>\n</div>"
     },
     "execution_count": 58,
     "metadata": {},
     "output_type": "execute_result"
    }
   ],
   "source": [
    "vol = annual_drq_vol_func(returns_df, params={'lookback': 11})\n",
    "vol\n"
   ],
   "metadata": {
    "collapsed": false,
    "ExecuteTime": {
     "end_time": "2023-10-11T01:56:05.351122700Z",
     "start_time": "2023-10-11T01:56:05.235394900Z"
    }
   }
  },
  {
   "cell_type": "markdown",
   "source": [
    "The difference here is that this override is temporary and does not change the default params of the Func class. "
   ],
   "metadata": {
    "collapsed": false
   }
  },
  {
   "cell_type": "code",
   "execution_count": 59,
   "outputs": [
    {
     "data": {
      "text/plain": "{'type': 'lin', 'lookback': 252}"
     },
     "execution_count": 59,
     "metadata": {},
     "output_type": "execute_result"
    }
   ],
   "source": [
    "annual_drq_vol_func.params"
   ],
   "metadata": {
    "collapsed": false,
    "ExecuteTime": {
     "end_time": "2023-10-11T01:56:05.387195Z",
     "start_time": "2023-10-11T01:56:05.265805700Z"
    }
   }
  },
  {
   "cell_type": "markdown",
   "source": [
    "These features are extremely helpful when you have a long list of parameters in quantitative research, with some standardized parameters, but where \n",
    "you also need to change some of the parameters for specific use cases."
   ],
   "metadata": {
    "collapsed": false
   }
  },
  {
   "cell_type": "markdown",
   "source": [
    "## Feature 2: Partial Functions\n",
    "\n",
    "From the above examples, one can see that Func classes can be used to effortlessly create partial functions. Let us look at an example."
   ],
   "metadata": {
    "collapsed": false
   }
  },
  {
   "cell_type": "code",
   "execution_count": 13,
   "outputs": [
    {
     "name": "stderr",
     "output_type": "stream",
     "text": [
      "INFO:root:INIT RollingVolatility_g_Returns {'type': 'lin'}\n"
     ]
    }
   ],
   "source": [
    "class RollingVolatility_g_Returns(Func):\n",
    "    '''Calculates rolling volatility of returns. It can be used to calculate both linear and exponential rolling volatility.'''\n",
    "    @classmethod\n",
    "    def _std_params(cls, name: str = None) -> dict:\n",
    "        return {}\n",
    "\n",
    "    @classmethod\n",
    "    def _execute(cls, operand: DataFrame, params=None) -> DataFrame:\n",
    "        if params['type'] == 'exp':\n",
    "            # calculate the rolling exponential volatility\n",
    "            result = operand.ewm(span=params['lookback']).std()\n",
    "        elif params['type'] == 'lin':\n",
    "            # calculate rolling standard  on the operand dataframe\n",
    "            result = operand.rolling(params['lookback']).std()\n",
    "        else:\n",
    "            raise ValueError(f'given type not implemented. type must be either exp or lin')\n",
    "        \n",
    "        return result\n",
    "    \n",
    "vol_func = RollingVolatility_g_Returns(params={'type': 'lin'})\n"
   ],
   "metadata": {
    "collapsed": false,
    "ExecuteTime": {
     "end_time": "2024-07-03T18:40:36.762589500Z",
     "start_time": "2024-07-03T18:40:36.742361500Z"
    }
   }
  },
  {
   "cell_type": "markdown",
   "source": [
    "Now \"vol_func\" behaves like a partial function. We can feed it any lookback parameter \n",
    "that we want."
   ],
   "metadata": {
    "collapsed": false
   }
  },
  {
   "cell_type": "code",
   "execution_count": 14,
   "outputs": [
    {
     "data": {
      "text/plain": "Type               A                   B                   C          \nID                 1         2         1         2         1         2\n2019-01-14       NaN       NaN       NaN       NaN       NaN       NaN\n2019-01-15       NaN       NaN       NaN       NaN       NaN       NaN\n2019-01-16       NaN       NaN       NaN       NaN       NaN       NaN\n2019-01-17       NaN       NaN       NaN       NaN       NaN       NaN\n2019-01-18  1.138308  0.817034  0.755480  0.814484  0.705380  1.132910\n2019-01-21  1.225945  0.360507  0.770806  1.070640  0.668462  1.154459\n2019-01-22  1.160502  0.467002  0.636719  1.173245  0.753956  0.962688\n2019-01-23  1.139481  0.862029  0.736484  1.229336  0.619901  0.725463\n2019-01-24  1.210130  0.994837  0.689014  0.957301  0.847397  0.675722\n2019-01-25  0.832584  0.985563  0.686131  1.075951  0.772106  0.516891\n2019-01-28  0.494496  1.299863  0.729875  1.128230  0.892640  0.507628\n2019-01-29  0.549781  1.290977  0.700916  0.687046  1.199727  0.664230\n2019-01-30  0.579096  0.725334  0.316406  0.872034  1.244724  0.698138\n2019-01-31  0.167727  0.724584  0.355806  1.058645  1.190339  0.727275",
      "text/html": "<div>\n<style scoped>\n    .dataframe tbody tr th:only-of-type {\n        vertical-align: middle;\n    }\n\n    .dataframe tbody tr th {\n        vertical-align: top;\n    }\n\n    .dataframe thead tr th {\n        text-align: left;\n    }\n</style>\n<table border=\"1\" class=\"dataframe\">\n  <thead>\n    <tr>\n      <th>Type</th>\n      <th colspan=\"2\" halign=\"left\">A</th>\n      <th colspan=\"2\" halign=\"left\">B</th>\n      <th colspan=\"2\" halign=\"left\">C</th>\n    </tr>\n    <tr>\n      <th>ID</th>\n      <th>1</th>\n      <th>2</th>\n      <th>1</th>\n      <th>2</th>\n      <th>1</th>\n      <th>2</th>\n    </tr>\n  </thead>\n  <tbody>\n    <tr>\n      <th>2019-01-14</th>\n      <td>NaN</td>\n      <td>NaN</td>\n      <td>NaN</td>\n      <td>NaN</td>\n      <td>NaN</td>\n      <td>NaN</td>\n    </tr>\n    <tr>\n      <th>2019-01-15</th>\n      <td>NaN</td>\n      <td>NaN</td>\n      <td>NaN</td>\n      <td>NaN</td>\n      <td>NaN</td>\n      <td>NaN</td>\n    </tr>\n    <tr>\n      <th>2019-01-16</th>\n      <td>NaN</td>\n      <td>NaN</td>\n      <td>NaN</td>\n      <td>NaN</td>\n      <td>NaN</td>\n      <td>NaN</td>\n    </tr>\n    <tr>\n      <th>2019-01-17</th>\n      <td>NaN</td>\n      <td>NaN</td>\n      <td>NaN</td>\n      <td>NaN</td>\n      <td>NaN</td>\n      <td>NaN</td>\n    </tr>\n    <tr>\n      <th>2019-01-18</th>\n      <td>1.138308</td>\n      <td>0.817034</td>\n      <td>0.755480</td>\n      <td>0.814484</td>\n      <td>0.705380</td>\n      <td>1.132910</td>\n    </tr>\n    <tr>\n      <th>2019-01-21</th>\n      <td>1.225945</td>\n      <td>0.360507</td>\n      <td>0.770806</td>\n      <td>1.070640</td>\n      <td>0.668462</td>\n      <td>1.154459</td>\n    </tr>\n    <tr>\n      <th>2019-01-22</th>\n      <td>1.160502</td>\n      <td>0.467002</td>\n      <td>0.636719</td>\n      <td>1.173245</td>\n      <td>0.753956</td>\n      <td>0.962688</td>\n    </tr>\n    <tr>\n      <th>2019-01-23</th>\n      <td>1.139481</td>\n      <td>0.862029</td>\n      <td>0.736484</td>\n      <td>1.229336</td>\n      <td>0.619901</td>\n      <td>0.725463</td>\n    </tr>\n    <tr>\n      <th>2019-01-24</th>\n      <td>1.210130</td>\n      <td>0.994837</td>\n      <td>0.689014</td>\n      <td>0.957301</td>\n      <td>0.847397</td>\n      <td>0.675722</td>\n    </tr>\n    <tr>\n      <th>2019-01-25</th>\n      <td>0.832584</td>\n      <td>0.985563</td>\n      <td>0.686131</td>\n      <td>1.075951</td>\n      <td>0.772106</td>\n      <td>0.516891</td>\n    </tr>\n    <tr>\n      <th>2019-01-28</th>\n      <td>0.494496</td>\n      <td>1.299863</td>\n      <td>0.729875</td>\n      <td>1.128230</td>\n      <td>0.892640</td>\n      <td>0.507628</td>\n    </tr>\n    <tr>\n      <th>2019-01-29</th>\n      <td>0.549781</td>\n      <td>1.290977</td>\n      <td>0.700916</td>\n      <td>0.687046</td>\n      <td>1.199727</td>\n      <td>0.664230</td>\n    </tr>\n    <tr>\n      <th>2019-01-30</th>\n      <td>0.579096</td>\n      <td>0.725334</td>\n      <td>0.316406</td>\n      <td>0.872034</td>\n      <td>1.244724</td>\n      <td>0.698138</td>\n    </tr>\n    <tr>\n      <th>2019-01-31</th>\n      <td>0.167727</td>\n      <td>0.724584</td>\n      <td>0.355806</td>\n      <td>1.058645</td>\n      <td>1.190339</td>\n      <td>0.727275</td>\n    </tr>\n  </tbody>\n</table>\n</div>"
     },
     "execution_count": 14,
     "metadata": {},
     "output_type": "execute_result"
    }
   ],
   "source": [
    "vol = vol_func(returns_df, {'lookback': 5})\n",
    "vol"
   ],
   "metadata": {
    "collapsed": false,
    "ExecuteTime": {
     "end_time": "2024-07-03T18:40:40.756452400Z",
     "start_time": "2024-07-03T18:40:40.713938500Z"
    }
   }
  },
  {
   "cell_type": "code",
   "execution_count": null,
   "outputs": [],
   "source": [],
   "metadata": {
    "collapsed": false
   }
  }
 ],
 "metadata": {
  "kernelspec": {
   "display_name": "base",
   "language": "python",
   "name": "python3"
  },
  "language_info": {
   "codemirror_mode": {
    "name": "ipython",
    "version": 3
   },
   "file_extension": ".py",
   "mimetype": "text/x-python",
   "name": "python",
   "nbconvert_exporter": "python",
   "pygments_lexer": "ipython3",
   "version": "3.10.9"
  },
  "orig_nbformat": 4
 },
 "nbformat": 4,
 "nbformat_minor": 2
}
